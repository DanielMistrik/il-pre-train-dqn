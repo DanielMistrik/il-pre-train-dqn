{
 "cells": [
  {
   "cell_type": "code",
   "execution_count": 1,
   "metadata": {},
   "outputs": [
    {
     "name": "stderr",
     "output_type": "stream",
     "text": [
      "/run/media/john/Secondary/Documents/Cornell/Spring 2024/CS4756 Robot Learning/il-pre-train-dqn/.venv/lib64/python3.11/site-packages/gymnasium/utils/play.py:29: UserWarning: \u001b[33mWARN: matplotlib is not installed, run `pip install gymnasium[other]`\u001b[0m\n",
      "  logger.warn(\"matplotlib is not installed, run `pip install gymnasium[other]`\")\n"
     ]
    }
   ],
   "source": [
    "from src.training.services.easy_train import easy_train\n",
    "import torch"
   ]
  },
  {
   "cell_type": "code",
   "execution_count": 2,
   "metadata": {},
   "outputs": [],
   "source": [
    "episodes = 5000\n",
    "train_vis_points = [100, 500, 1000, 2000, 3000, 4999]"
   ]
  },
  {
   "cell_type": "code",
   "execution_count": 3,
   "metadata": {},
   "outputs": [],
   "source": [
    "target_updates = [100, 500, 1000]\n",
    "pretrain_epochs = [10, 100, 500]"
   ]
  },
  {
   "cell_type": "code",
   "execution_count": 4,
   "metadata": {},
   "outputs": [],
   "source": [
    "envs = {\n",
    "    \"MountainCar-v0\": \"./src/pretrain/data/MountainCar-v0_10_000.npy\",\n",
    "    \"Acrobot-v1\": \"src/pretrain/data/Acrobot-v1_10_000.npy\",\n",
    "    \"LunarLander-v2\": \"src/pretrain/data/LunarLander-v2_10_000.npy\"\n",
    "}"
   ]
  },
  {
   "cell_type": "code",
   "execution_count": 5,
   "metadata": {},
   "outputs": [],
   "source": [
    "device = torch.device(\"cuda\" if torch.cuda.is_available() else \"cpu\")"
   ]
  },
  {
   "cell_type": "code",
   "execution_count": 6,
   "metadata": {},
   "outputs": [
    {
     "name": "stderr",
     "output_type": "stream",
     "text": [
      "100%|██████████| 10/10 [00:02<00:00,  3.82it/s]\n"
     ]
    },
    {
     "data": {
      "application/vnd.jupyter.widget-view+json": {
       "model_id": "449d7f8549654241910de80fd1386f73",
       "version_major": 2,
       "version_minor": 0
      },
      "text/plain": [
       "  0%|          | 0/1000 [00:00<?, ?it/s]"
      ]
     },
     "metadata": {},
     "output_type": "display_data"
    },
    {
     "data": {
      "application/vnd.jupyter.widget-view+json": {
       "model_id": "547ae939f3244a8f86757077d03a398f",
       "version_major": 2,
       "version_minor": 0
      },
      "text/plain": [
       "  0%|          | 0/5000 [00:00<?, ?it/s]"
      ]
     },
     "metadata": {},
     "output_type": "display_data"
    },
    {
     "name": "stdout",
     "output_type": "stream",
     "text": [
      "Saved indices: [5, 0]\n",
      "Testing after_training_MountainCar-v0_episode_100_sample_0_pretrain_epochs_10_target_update_100\n",
      "Testing after_training_MountainCar-v0_episode_100_sample_1_pretrain_epochs_10_target_update_100\n",
      "Testing after_training_MountainCar-v0_episode_100_sample_2_pretrain_epochs_10_target_update_100\n",
      "Testing after_training_MountainCar-v0_episode_100_sample_3_pretrain_epochs_10_target_update_100\n",
      "Testing after_training_MountainCar-v0_episode_100_sample_4_pretrain_epochs_10_target_update_100\n",
      "Testing after_training_MountainCar-v0_episode_100_sample_5_pretrain_epochs_10_target_update_100\n",
      "Testing after_training_MountainCar-v0_episode_100_sample_6_pretrain_epochs_10_target_update_100\n",
      "Testing after_training_MountainCar-v0_episode_100_sample_7_pretrain_epochs_10_target_update_100\n",
      "Testing after_training_MountainCar-v0_episode_100_sample_8_pretrain_epochs_10_target_update_100\n",
      "Testing after_training_MountainCar-v0_episode_100_sample_9_pretrain_epochs_10_target_update_100\n",
      "Saved indices: [7, 6]\n",
      "Testing after_training_MountainCar-v0_episode_500_sample_0_pretrain_epochs_10_target_update_100\n",
      "Testing after_training_MountainCar-v0_episode_500_sample_1_pretrain_epochs_10_target_update_100\n",
      "Testing after_training_MountainCar-v0_episode_500_sample_2_pretrain_epochs_10_target_update_100\n",
      "Testing after_training_MountainCar-v0_episode_500_sample_3_pretrain_epochs_10_target_update_100\n",
      "Testing after_training_MountainCar-v0_episode_500_sample_4_pretrain_epochs_10_target_update_100\n",
      "Testing after_training_MountainCar-v0_episode_500_sample_5_pretrain_epochs_10_target_update_100\n",
      "Testing after_training_MountainCar-v0_episode_500_sample_6_pretrain_epochs_10_target_update_100\n",
      "Testing after_training_MountainCar-v0_episode_500_sample_7_pretrain_epochs_10_target_update_100\n",
      "Testing after_training_MountainCar-v0_episode_500_sample_8_pretrain_epochs_10_target_update_100\n",
      "Testing after_training_MountainCar-v0_episode_500_sample_9_pretrain_epochs_10_target_update_100\n",
      "Saved indices: [3, 4]\n",
      "Testing after_training_MountainCar-v0_episode_1000_sample_0_pretrain_epochs_10_target_update_100\n",
      "Testing after_training_MountainCar-v0_episode_1000_sample_1_pretrain_epochs_10_target_update_100\n",
      "Testing after_training_MountainCar-v0_episode_1000_sample_2_pretrain_epochs_10_target_update_100\n",
      "Testing after_training_MountainCar-v0_episode_1000_sample_3_pretrain_epochs_10_target_update_100\n",
      "Testing after_training_MountainCar-v0_episode_1000_sample_4_pretrain_epochs_10_target_update_100\n",
      "Testing after_training_MountainCar-v0_episode_1000_sample_5_pretrain_epochs_10_target_update_100\n",
      "Testing after_training_MountainCar-v0_episode_1000_sample_6_pretrain_epochs_10_target_update_100\n",
      "Testing after_training_MountainCar-v0_episode_1000_sample_7_pretrain_epochs_10_target_update_100\n",
      "Testing after_training_MountainCar-v0_episode_1000_sample_8_pretrain_epochs_10_target_update_100\n",
      "Testing after_training_MountainCar-v0_episode_1000_sample_9_pretrain_epochs_10_target_update_100\n",
      "Saved indices: [3, 0]\n",
      "Testing after_training_MountainCar-v0_episode_2000_sample_0_pretrain_epochs_10_target_update_100\n",
      "Testing after_training_MountainCar-v0_episode_2000_sample_1_pretrain_epochs_10_target_update_100\n",
      "Testing after_training_MountainCar-v0_episode_2000_sample_2_pretrain_epochs_10_target_update_100\n",
      "Testing after_training_MountainCar-v0_episode_2000_sample_3_pretrain_epochs_10_target_update_100\n",
      "Testing after_training_MountainCar-v0_episode_2000_sample_4_pretrain_epochs_10_target_update_100\n",
      "Testing after_training_MountainCar-v0_episode_2000_sample_5_pretrain_epochs_10_target_update_100\n",
      "Testing after_training_MountainCar-v0_episode_2000_sample_6_pretrain_epochs_10_target_update_100\n",
      "Testing after_training_MountainCar-v0_episode_2000_sample_7_pretrain_epochs_10_target_update_100\n",
      "Testing after_training_MountainCar-v0_episode_2000_sample_8_pretrain_epochs_10_target_update_100\n",
      "Testing after_training_MountainCar-v0_episode_2000_sample_9_pretrain_epochs_10_target_update_100\n",
      "Saved indices: [5, 3]\n",
      "Testing after_training_MountainCar-v0_episode_3000_sample_0_pretrain_epochs_10_target_update_100\n",
      "Testing after_training_MountainCar-v0_episode_3000_sample_1_pretrain_epochs_10_target_update_100\n",
      "Testing after_training_MountainCar-v0_episode_3000_sample_2_pretrain_epochs_10_target_update_100\n",
      "Testing after_training_MountainCar-v0_episode_3000_sample_3_pretrain_epochs_10_target_update_100\n",
      "Testing after_training_MountainCar-v0_episode_3000_sample_4_pretrain_epochs_10_target_update_100\n",
      "Testing after_training_MountainCar-v0_episode_3000_sample_5_pretrain_epochs_10_target_update_100\n",
      "Testing after_training_MountainCar-v0_episode_3000_sample_6_pretrain_epochs_10_target_update_100\n",
      "Testing after_training_MountainCar-v0_episode_3000_sample_7_pretrain_epochs_10_target_update_100\n",
      "Testing after_training_MountainCar-v0_episode_3000_sample_8_pretrain_epochs_10_target_update_100\n",
      "Testing after_training_MountainCar-v0_episode_3000_sample_9_pretrain_epochs_10_target_update_100\n",
      "Saved indices: [9, 8]\n",
      "Testing after_training_MountainCar-v0_episode_4999_sample_0_pretrain_epochs_10_target_update_100\n",
      "Testing after_training_MountainCar-v0_episode_4999_sample_1_pretrain_epochs_10_target_update_100\n",
      "Testing after_training_MountainCar-v0_episode_4999_sample_2_pretrain_epochs_10_target_update_100\n",
      "Testing after_training_MountainCar-v0_episode_4999_sample_3_pretrain_epochs_10_target_update_100\n",
      "Testing after_training_MountainCar-v0_episode_4999_sample_4_pretrain_epochs_10_target_update_100\n",
      "Testing after_training_MountainCar-v0_episode_4999_sample_5_pretrain_epochs_10_target_update_100\n",
      "Testing after_training_MountainCar-v0_episode_4999_sample_6_pretrain_epochs_10_target_update_100\n",
      "Testing after_training_MountainCar-v0_episode_4999_sample_7_pretrain_epochs_10_target_update_100\n",
      "Testing after_training_MountainCar-v0_episode_4999_sample_8_pretrain_epochs_10_target_update_100\n",
      "Testing after_training_MountainCar-v0_episode_4999_sample_9_pretrain_epochs_10_target_update_100\n"
     ]
    },
    {
     "name": "stderr",
     "output_type": "stream",
     "text": [
      "100%|██████████| 100/100 [00:22<00:00,  4.48it/s]\n"
     ]
    },
    {
     "data": {
      "application/vnd.jupyter.widget-view+json": {
       "model_id": "80f92701a6624f8fb801ecbd55bee8d8",
       "version_major": 2,
       "version_minor": 0
      },
      "text/plain": [
       "  0%|          | 0/1000 [00:00<?, ?it/s]"
      ]
     },
     "metadata": {},
     "output_type": "display_data"
    },
    {
     "data": {
      "application/vnd.jupyter.widget-view+json": {
       "model_id": "794b382a0b854e048e8d15e654af3e9e",
       "version_major": 2,
       "version_minor": 0
      },
      "text/plain": [
       "  0%|          | 0/5000 [00:00<?, ?it/s]"
      ]
     },
     "metadata": {},
     "output_type": "display_data"
    },
    {
     "name": "stdout",
     "output_type": "stream",
     "text": [
      "Saved indices: [4, 9]\n",
      "Testing after_training_MountainCar-v0_episode_100_sample_0_pretrain_epochs_100_target_update_100\n",
      "Testing after_training_MountainCar-v0_episode_100_sample_1_pretrain_epochs_100_target_update_100\n",
      "Testing after_training_MountainCar-v0_episode_100_sample_2_pretrain_epochs_100_target_update_100\n",
      "Testing after_training_MountainCar-v0_episode_100_sample_3_pretrain_epochs_100_target_update_100\n",
      "Testing after_training_MountainCar-v0_episode_100_sample_4_pretrain_epochs_100_target_update_100\n",
      "Testing after_training_MountainCar-v0_episode_100_sample_5_pretrain_epochs_100_target_update_100\n",
      "Testing after_training_MountainCar-v0_episode_100_sample_6_pretrain_epochs_100_target_update_100\n",
      "Testing after_training_MountainCar-v0_episode_100_sample_7_pretrain_epochs_100_target_update_100\n",
      "Testing after_training_MountainCar-v0_episode_100_sample_8_pretrain_epochs_100_target_update_100\n",
      "Testing after_training_MountainCar-v0_episode_100_sample_9_pretrain_epochs_100_target_update_100\n",
      "Saved indices: [6, 7]\n",
      "Testing after_training_MountainCar-v0_episode_500_sample_0_pretrain_epochs_100_target_update_100\n",
      "Testing after_training_MountainCar-v0_episode_500_sample_1_pretrain_epochs_100_target_update_100\n",
      "Testing after_training_MountainCar-v0_episode_500_sample_2_pretrain_epochs_100_target_update_100\n",
      "Testing after_training_MountainCar-v0_episode_500_sample_3_pretrain_epochs_100_target_update_100\n",
      "Testing after_training_MountainCar-v0_episode_500_sample_4_pretrain_epochs_100_target_update_100\n",
      "Testing after_training_MountainCar-v0_episode_500_sample_5_pretrain_epochs_100_target_update_100\n",
      "Testing after_training_MountainCar-v0_episode_500_sample_6_pretrain_epochs_100_target_update_100\n",
      "Testing after_training_MountainCar-v0_episode_500_sample_7_pretrain_epochs_100_target_update_100\n",
      "Testing after_training_MountainCar-v0_episode_500_sample_8_pretrain_epochs_100_target_update_100\n",
      "Testing after_training_MountainCar-v0_episode_500_sample_9_pretrain_epochs_100_target_update_100\n",
      "Saved indices: [3, 8]\n",
      "Testing after_training_MountainCar-v0_episode_1000_sample_0_pretrain_epochs_100_target_update_100\n",
      "Testing after_training_MountainCar-v0_episode_1000_sample_1_pretrain_epochs_100_target_update_100\n",
      "Testing after_training_MountainCar-v0_episode_1000_sample_2_pretrain_epochs_100_target_update_100\n",
      "Testing after_training_MountainCar-v0_episode_1000_sample_3_pretrain_epochs_100_target_update_100\n",
      "Testing after_training_MountainCar-v0_episode_1000_sample_4_pretrain_epochs_100_target_update_100\n",
      "Testing after_training_MountainCar-v0_episode_1000_sample_5_pretrain_epochs_100_target_update_100\n",
      "Testing after_training_MountainCar-v0_episode_1000_sample_6_pretrain_epochs_100_target_update_100\n",
      "Testing after_training_MountainCar-v0_episode_1000_sample_7_pretrain_epochs_100_target_update_100\n",
      "Testing after_training_MountainCar-v0_episode_1000_sample_8_pretrain_epochs_100_target_update_100\n",
      "Testing after_training_MountainCar-v0_episode_1000_sample_9_pretrain_epochs_100_target_update_100\n",
      "Saved indices: [4, 1]\n",
      "Testing after_training_MountainCar-v0_episode_2000_sample_0_pretrain_epochs_100_target_update_100\n",
      "Testing after_training_MountainCar-v0_episode_2000_sample_1_pretrain_epochs_100_target_update_100\n",
      "Testing after_training_MountainCar-v0_episode_2000_sample_2_pretrain_epochs_100_target_update_100\n",
      "Testing after_training_MountainCar-v0_episode_2000_sample_3_pretrain_epochs_100_target_update_100\n",
      "Testing after_training_MountainCar-v0_episode_2000_sample_4_pretrain_epochs_100_target_update_100\n",
      "Testing after_training_MountainCar-v0_episode_2000_sample_5_pretrain_epochs_100_target_update_100\n",
      "Testing after_training_MountainCar-v0_episode_2000_sample_6_pretrain_epochs_100_target_update_100\n",
      "Testing after_training_MountainCar-v0_episode_2000_sample_7_pretrain_epochs_100_target_update_100\n",
      "Testing after_training_MountainCar-v0_episode_2000_sample_8_pretrain_epochs_100_target_update_100\n",
      "Testing after_training_MountainCar-v0_episode_2000_sample_9_pretrain_epochs_100_target_update_100\n",
      "Saved indices: [2, 8]\n",
      "Testing after_training_MountainCar-v0_episode_3000_sample_0_pretrain_epochs_100_target_update_100\n",
      "Testing after_training_MountainCar-v0_episode_3000_sample_1_pretrain_epochs_100_target_update_100\n",
      "Testing after_training_MountainCar-v0_episode_3000_sample_2_pretrain_epochs_100_target_update_100\n",
      "Testing after_training_MountainCar-v0_episode_3000_sample_3_pretrain_epochs_100_target_update_100\n",
      "Testing after_training_MountainCar-v0_episode_3000_sample_4_pretrain_epochs_100_target_update_100\n",
      "Testing after_training_MountainCar-v0_episode_3000_sample_5_pretrain_epochs_100_target_update_100\n",
      "Testing after_training_MountainCar-v0_episode_3000_sample_6_pretrain_epochs_100_target_update_100\n",
      "Testing after_training_MountainCar-v0_episode_3000_sample_7_pretrain_epochs_100_target_update_100\n",
      "Testing after_training_MountainCar-v0_episode_3000_sample_8_pretrain_epochs_100_target_update_100\n",
      "Testing after_training_MountainCar-v0_episode_3000_sample_9_pretrain_epochs_100_target_update_100\n",
      "Saved indices: [3, 0]\n",
      "Testing after_training_MountainCar-v0_episode_4999_sample_0_pretrain_epochs_100_target_update_100\n",
      "Testing after_training_MountainCar-v0_episode_4999_sample_1_pretrain_epochs_100_target_update_100\n",
      "Testing after_training_MountainCar-v0_episode_4999_sample_2_pretrain_epochs_100_target_update_100\n",
      "Testing after_training_MountainCar-v0_episode_4999_sample_3_pretrain_epochs_100_target_update_100\n",
      "Testing after_training_MountainCar-v0_episode_4999_sample_4_pretrain_epochs_100_target_update_100\n",
      "Testing after_training_MountainCar-v0_episode_4999_sample_5_pretrain_epochs_100_target_update_100\n",
      "Testing after_training_MountainCar-v0_episode_4999_sample_6_pretrain_epochs_100_target_update_100\n",
      "Testing after_training_MountainCar-v0_episode_4999_sample_7_pretrain_epochs_100_target_update_100\n",
      "Testing after_training_MountainCar-v0_episode_4999_sample_8_pretrain_epochs_100_target_update_100\n",
      "Testing after_training_MountainCar-v0_episode_4999_sample_9_pretrain_epochs_100_target_update_100\n"
     ]
    },
    {
     "name": "stderr",
     "output_type": "stream",
     "text": [
      "100%|██████████| 500/500 [01:51<00:00,  4.47it/s]\n"
     ]
    },
    {
     "data": {
      "application/vnd.jupyter.widget-view+json": {
       "model_id": "17a16f762aa34974bbc2d445efb9279c",
       "version_major": 2,
       "version_minor": 0
      },
      "text/plain": [
       "  0%|          | 0/1000 [00:00<?, ?it/s]"
      ]
     },
     "metadata": {},
     "output_type": "display_data"
    },
    {
     "data": {
      "application/vnd.jupyter.widget-view+json": {
       "model_id": "10c6dd2d60b048d1a5c49e2bad12d3e6",
       "version_major": 2,
       "version_minor": 0
      },
      "text/plain": [
       "  0%|          | 0/5000 [00:00<?, ?it/s]"
      ]
     },
     "metadata": {},
     "output_type": "display_data"
    },
    {
     "name": "stdout",
     "output_type": "stream",
     "text": [
      "Saved indices: [6, 5]\n",
      "Testing after_training_MountainCar-v0_episode_100_sample_0_pretrain_epochs_500_target_update_100\n",
      "Testing after_training_MountainCar-v0_episode_100_sample_1_pretrain_epochs_500_target_update_100\n",
      "Testing after_training_MountainCar-v0_episode_100_sample_2_pretrain_epochs_500_target_update_100\n",
      "Testing after_training_MountainCar-v0_episode_100_sample_3_pretrain_epochs_500_target_update_100\n",
      "Testing after_training_MountainCar-v0_episode_100_sample_4_pretrain_epochs_500_target_update_100\n",
      "Testing after_training_MountainCar-v0_episode_100_sample_5_pretrain_epochs_500_target_update_100\n",
      "Testing after_training_MountainCar-v0_episode_100_sample_6_pretrain_epochs_500_target_update_100\n",
      "Testing after_training_MountainCar-v0_episode_100_sample_7_pretrain_epochs_500_target_update_100\n",
      "Testing after_training_MountainCar-v0_episode_100_sample_8_pretrain_epochs_500_target_update_100\n",
      "Testing after_training_MountainCar-v0_episode_100_sample_9_pretrain_epochs_500_target_update_100\n",
      "Saved indices: [7, 5]\n",
      "Testing after_training_MountainCar-v0_episode_500_sample_0_pretrain_epochs_500_target_update_100\n",
      "Testing after_training_MountainCar-v0_episode_500_sample_1_pretrain_epochs_500_target_update_100\n",
      "Testing after_training_MountainCar-v0_episode_500_sample_2_pretrain_epochs_500_target_update_100\n",
      "Testing after_training_MountainCar-v0_episode_500_sample_3_pretrain_epochs_500_target_update_100\n",
      "Testing after_training_MountainCar-v0_episode_500_sample_4_pretrain_epochs_500_target_update_100\n",
      "Testing after_training_MountainCar-v0_episode_500_sample_5_pretrain_epochs_500_target_update_100\n",
      "Testing after_training_MountainCar-v0_episode_500_sample_6_pretrain_epochs_500_target_update_100\n",
      "Testing after_training_MountainCar-v0_episode_500_sample_7_pretrain_epochs_500_target_update_100\n",
      "Testing after_training_MountainCar-v0_episode_500_sample_8_pretrain_epochs_500_target_update_100\n",
      "Testing after_training_MountainCar-v0_episode_500_sample_9_pretrain_epochs_500_target_update_100\n",
      "Saved indices: [8, 2]\n",
      "Testing after_training_MountainCar-v0_episode_1000_sample_0_pretrain_epochs_500_target_update_100\n",
      "Testing after_training_MountainCar-v0_episode_1000_sample_1_pretrain_epochs_500_target_update_100\n",
      "Testing after_training_MountainCar-v0_episode_1000_sample_2_pretrain_epochs_500_target_update_100\n",
      "Testing after_training_MountainCar-v0_episode_1000_sample_3_pretrain_epochs_500_target_update_100\n",
      "Testing after_training_MountainCar-v0_episode_1000_sample_4_pretrain_epochs_500_target_update_100\n",
      "Testing after_training_MountainCar-v0_episode_1000_sample_5_pretrain_epochs_500_target_update_100\n",
      "Testing after_training_MountainCar-v0_episode_1000_sample_6_pretrain_epochs_500_target_update_100\n",
      "Testing after_training_MountainCar-v0_episode_1000_sample_7_pretrain_epochs_500_target_update_100\n",
      "Testing after_training_MountainCar-v0_episode_1000_sample_8_pretrain_epochs_500_target_update_100\n",
      "Testing after_training_MountainCar-v0_episode_1000_sample_9_pretrain_epochs_500_target_update_100\n",
      "Saved indices: [5, 3]\n",
      "Testing after_training_MountainCar-v0_episode_2000_sample_0_pretrain_epochs_500_target_update_100\n",
      "Testing after_training_MountainCar-v0_episode_2000_sample_1_pretrain_epochs_500_target_update_100\n",
      "Testing after_training_MountainCar-v0_episode_2000_sample_2_pretrain_epochs_500_target_update_100\n",
      "Testing after_training_MountainCar-v0_episode_2000_sample_3_pretrain_epochs_500_target_update_100\n",
      "Testing after_training_MountainCar-v0_episode_2000_sample_4_pretrain_epochs_500_target_update_100\n",
      "Testing after_training_MountainCar-v0_episode_2000_sample_5_pretrain_epochs_500_target_update_100\n",
      "Testing after_training_MountainCar-v0_episode_2000_sample_6_pretrain_epochs_500_target_update_100\n",
      "Testing after_training_MountainCar-v0_episode_2000_sample_7_pretrain_epochs_500_target_update_100\n",
      "Testing after_training_MountainCar-v0_episode_2000_sample_8_pretrain_epochs_500_target_update_100\n",
      "Testing after_training_MountainCar-v0_episode_2000_sample_9_pretrain_epochs_500_target_update_100\n",
      "Saved indices: [8, 2]\n",
      "Testing after_training_MountainCar-v0_episode_3000_sample_0_pretrain_epochs_500_target_update_100\n",
      "Testing after_training_MountainCar-v0_episode_3000_sample_1_pretrain_epochs_500_target_update_100\n",
      "Testing after_training_MountainCar-v0_episode_3000_sample_2_pretrain_epochs_500_target_update_100\n",
      "Testing after_training_MountainCar-v0_episode_3000_sample_3_pretrain_epochs_500_target_update_100\n",
      "Testing after_training_MountainCar-v0_episode_3000_sample_4_pretrain_epochs_500_target_update_100\n",
      "Testing after_training_MountainCar-v0_episode_3000_sample_5_pretrain_epochs_500_target_update_100\n",
      "Testing after_training_MountainCar-v0_episode_3000_sample_6_pretrain_epochs_500_target_update_100\n",
      "Testing after_training_MountainCar-v0_episode_3000_sample_7_pretrain_epochs_500_target_update_100\n",
      "Testing after_training_MountainCar-v0_episode_3000_sample_8_pretrain_epochs_500_target_update_100\n",
      "Testing after_training_MountainCar-v0_episode_3000_sample_9_pretrain_epochs_500_target_update_100\n",
      "Saved indices: [7, 8]\n",
      "Testing after_training_MountainCar-v0_episode_4999_sample_0_pretrain_epochs_500_target_update_100\n",
      "Testing after_training_MountainCar-v0_episode_4999_sample_1_pretrain_epochs_500_target_update_100\n",
      "Testing after_training_MountainCar-v0_episode_4999_sample_2_pretrain_epochs_500_target_update_100\n",
      "Testing after_training_MountainCar-v0_episode_4999_sample_3_pretrain_epochs_500_target_update_100\n",
      "Testing after_training_MountainCar-v0_episode_4999_sample_4_pretrain_epochs_500_target_update_100\n",
      "Testing after_training_MountainCar-v0_episode_4999_sample_5_pretrain_epochs_500_target_update_100\n",
      "Testing after_training_MountainCar-v0_episode_4999_sample_6_pretrain_epochs_500_target_update_100\n",
      "Testing after_training_MountainCar-v0_episode_4999_sample_7_pretrain_epochs_500_target_update_100\n",
      "Testing after_training_MountainCar-v0_episode_4999_sample_8_pretrain_epochs_500_target_update_100\n",
      "Testing after_training_MountainCar-v0_episode_4999_sample_9_pretrain_epochs_500_target_update_100\n"
     ]
    },
    {
     "name": "stderr",
     "output_type": "stream",
     "text": [
      "100%|██████████| 10/10 [00:02<00:00,  4.47it/s]\n"
     ]
    },
    {
     "data": {
      "application/vnd.jupyter.widget-view+json": {
       "model_id": "ab64addaf1854f30b4d1b5e791cca36f",
       "version_major": 2,
       "version_minor": 0
      },
      "text/plain": [
       "  0%|          | 0/1000 [00:00<?, ?it/s]"
      ]
     },
     "metadata": {},
     "output_type": "display_data"
    },
    {
     "data": {
      "application/vnd.jupyter.widget-view+json": {
       "model_id": "0f677c1678a44674861810684d384a58",
       "version_major": 2,
       "version_minor": 0
      },
      "text/plain": [
       "  0%|          | 0/5000 [00:00<?, ?it/s]"
      ]
     },
     "metadata": {},
     "output_type": "display_data"
    },
    {
     "name": "stdout",
     "output_type": "stream",
     "text": [
      "Saved indices: [8, 2]\n",
      "Testing after_training_MountainCar-v0_episode_100_sample_0_pretrain_epochs_10_target_update_500\n",
      "Testing after_training_MountainCar-v0_episode_100_sample_1_pretrain_epochs_10_target_update_500\n",
      "Testing after_training_MountainCar-v0_episode_100_sample_2_pretrain_epochs_10_target_update_500\n",
      "Testing after_training_MountainCar-v0_episode_100_sample_3_pretrain_epochs_10_target_update_500\n",
      "Testing after_training_MountainCar-v0_episode_100_sample_4_pretrain_epochs_10_target_update_500\n",
      "Testing after_training_MountainCar-v0_episode_100_sample_5_pretrain_epochs_10_target_update_500\n",
      "Testing after_training_MountainCar-v0_episode_100_sample_6_pretrain_epochs_10_target_update_500\n",
      "Testing after_training_MountainCar-v0_episode_100_sample_7_pretrain_epochs_10_target_update_500\n",
      "Testing after_training_MountainCar-v0_episode_100_sample_8_pretrain_epochs_10_target_update_500\n",
      "Testing after_training_MountainCar-v0_episode_100_sample_9_pretrain_epochs_10_target_update_500\n",
      "Saved indices: [5, 2]\n",
      "Testing after_training_MountainCar-v0_episode_500_sample_0_pretrain_epochs_10_target_update_500\n",
      "Testing after_training_MountainCar-v0_episode_500_sample_1_pretrain_epochs_10_target_update_500\n",
      "Testing after_training_MountainCar-v0_episode_500_sample_2_pretrain_epochs_10_target_update_500\n",
      "Testing after_training_MountainCar-v0_episode_500_sample_3_pretrain_epochs_10_target_update_500\n",
      "Testing after_training_MountainCar-v0_episode_500_sample_4_pretrain_epochs_10_target_update_500\n",
      "Testing after_training_MountainCar-v0_episode_500_sample_5_pretrain_epochs_10_target_update_500\n",
      "Testing after_training_MountainCar-v0_episode_500_sample_6_pretrain_epochs_10_target_update_500\n",
      "Testing after_training_MountainCar-v0_episode_500_sample_7_pretrain_epochs_10_target_update_500\n",
      "Testing after_training_MountainCar-v0_episode_500_sample_8_pretrain_epochs_10_target_update_500\n",
      "Testing after_training_MountainCar-v0_episode_500_sample_9_pretrain_epochs_10_target_update_500\n",
      "Saved indices: [2, 6]\n",
      "Testing after_training_MountainCar-v0_episode_1000_sample_0_pretrain_epochs_10_target_update_500\n",
      "Testing after_training_MountainCar-v0_episode_1000_sample_1_pretrain_epochs_10_target_update_500\n",
      "Testing after_training_MountainCar-v0_episode_1000_sample_2_pretrain_epochs_10_target_update_500\n",
      "Testing after_training_MountainCar-v0_episode_1000_sample_3_pretrain_epochs_10_target_update_500\n",
      "Testing after_training_MountainCar-v0_episode_1000_sample_4_pretrain_epochs_10_target_update_500\n",
      "Testing after_training_MountainCar-v0_episode_1000_sample_5_pretrain_epochs_10_target_update_500\n",
      "Testing after_training_MountainCar-v0_episode_1000_sample_6_pretrain_epochs_10_target_update_500\n",
      "Testing after_training_MountainCar-v0_episode_1000_sample_7_pretrain_epochs_10_target_update_500\n",
      "Testing after_training_MountainCar-v0_episode_1000_sample_8_pretrain_epochs_10_target_update_500\n",
      "Testing after_training_MountainCar-v0_episode_1000_sample_9_pretrain_epochs_10_target_update_500\n",
      "Saved indices: [6, 5]\n",
      "Testing after_training_MountainCar-v0_episode_2000_sample_0_pretrain_epochs_10_target_update_500\n",
      "Testing after_training_MountainCar-v0_episode_2000_sample_1_pretrain_epochs_10_target_update_500\n",
      "Testing after_training_MountainCar-v0_episode_2000_sample_2_pretrain_epochs_10_target_update_500\n",
      "Testing after_training_MountainCar-v0_episode_2000_sample_3_pretrain_epochs_10_target_update_500\n",
      "Testing after_training_MountainCar-v0_episode_2000_sample_4_pretrain_epochs_10_target_update_500\n",
      "Testing after_training_MountainCar-v0_episode_2000_sample_5_pretrain_epochs_10_target_update_500\n",
      "Testing after_training_MountainCar-v0_episode_2000_sample_6_pretrain_epochs_10_target_update_500\n",
      "Testing after_training_MountainCar-v0_episode_2000_sample_7_pretrain_epochs_10_target_update_500\n",
      "Testing after_training_MountainCar-v0_episode_2000_sample_8_pretrain_epochs_10_target_update_500\n",
      "Testing after_training_MountainCar-v0_episode_2000_sample_9_pretrain_epochs_10_target_update_500\n",
      "Saved indices: [9, 1]\n",
      "Testing after_training_MountainCar-v0_episode_3000_sample_0_pretrain_epochs_10_target_update_500\n",
      "Testing after_training_MountainCar-v0_episode_3000_sample_1_pretrain_epochs_10_target_update_500\n",
      "Testing after_training_MountainCar-v0_episode_3000_sample_2_pretrain_epochs_10_target_update_500\n",
      "Testing after_training_MountainCar-v0_episode_3000_sample_3_pretrain_epochs_10_target_update_500\n",
      "Testing after_training_MountainCar-v0_episode_3000_sample_4_pretrain_epochs_10_target_update_500\n",
      "Testing after_training_MountainCar-v0_episode_3000_sample_5_pretrain_epochs_10_target_update_500\n",
      "Testing after_training_MountainCar-v0_episode_3000_sample_6_pretrain_epochs_10_target_update_500\n",
      "Testing after_training_MountainCar-v0_episode_3000_sample_7_pretrain_epochs_10_target_update_500\n",
      "Testing after_training_MountainCar-v0_episode_3000_sample_8_pretrain_epochs_10_target_update_500\n",
      "Testing after_training_MountainCar-v0_episode_3000_sample_9_pretrain_epochs_10_target_update_500\n",
      "Saved indices: [4, 6]\n",
      "Testing after_training_MountainCar-v0_episode_4999_sample_0_pretrain_epochs_10_target_update_500\n",
      "Testing after_training_MountainCar-v0_episode_4999_sample_1_pretrain_epochs_10_target_update_500\n",
      "Testing after_training_MountainCar-v0_episode_4999_sample_2_pretrain_epochs_10_target_update_500\n",
      "Testing after_training_MountainCar-v0_episode_4999_sample_3_pretrain_epochs_10_target_update_500\n",
      "Testing after_training_MountainCar-v0_episode_4999_sample_4_pretrain_epochs_10_target_update_500\n",
      "Testing after_training_MountainCar-v0_episode_4999_sample_5_pretrain_epochs_10_target_update_500\n",
      "Testing after_training_MountainCar-v0_episode_4999_sample_6_pretrain_epochs_10_target_update_500\n",
      "Testing after_training_MountainCar-v0_episode_4999_sample_7_pretrain_epochs_10_target_update_500\n",
      "Testing after_training_MountainCar-v0_episode_4999_sample_8_pretrain_epochs_10_target_update_500\n",
      "Testing after_training_MountainCar-v0_episode_4999_sample_9_pretrain_epochs_10_target_update_500\n"
     ]
    },
    {
     "name": "stderr",
     "output_type": "stream",
     "text": [
      "100%|██████████| 100/100 [00:22<00:00,  4.45it/s]\n"
     ]
    },
    {
     "data": {
      "application/vnd.jupyter.widget-view+json": {
       "model_id": "1f46a6dba0224e2db2198c52a81f3cdb",
       "version_major": 2,
       "version_minor": 0
      },
      "text/plain": [
       "  0%|          | 0/1000 [00:00<?, ?it/s]"
      ]
     },
     "metadata": {},
     "output_type": "display_data"
    },
    {
     "data": {
      "application/vnd.jupyter.widget-view+json": {
       "model_id": "75fec9761d394ed694b676426db08c27",
       "version_major": 2,
       "version_minor": 0
      },
      "text/plain": [
       "  0%|          | 0/5000 [00:00<?, ?it/s]"
      ]
     },
     "metadata": {},
     "output_type": "display_data"
    },
    {
     "name": "stdout",
     "output_type": "stream",
     "text": [
      "Saved indices: [1, 4]\n",
      "Testing after_training_MountainCar-v0_episode_100_sample_0_pretrain_epochs_100_target_update_500\n",
      "Testing after_training_MountainCar-v0_episode_100_sample_1_pretrain_epochs_100_target_update_500\n",
      "Testing after_training_MountainCar-v0_episode_100_sample_2_pretrain_epochs_100_target_update_500\n",
      "Testing after_training_MountainCar-v0_episode_100_sample_3_pretrain_epochs_100_target_update_500\n",
      "Testing after_training_MountainCar-v0_episode_100_sample_4_pretrain_epochs_100_target_update_500\n",
      "Testing after_training_MountainCar-v0_episode_100_sample_5_pretrain_epochs_100_target_update_500\n",
      "Testing after_training_MountainCar-v0_episode_100_sample_6_pretrain_epochs_100_target_update_500\n",
      "Testing after_training_MountainCar-v0_episode_100_sample_7_pretrain_epochs_100_target_update_500\n",
      "Testing after_training_MountainCar-v0_episode_100_sample_8_pretrain_epochs_100_target_update_500\n",
      "Testing after_training_MountainCar-v0_episode_100_sample_9_pretrain_epochs_100_target_update_500\n",
      "Saved indices: [4, 0]\n",
      "Testing after_training_MountainCar-v0_episode_500_sample_0_pretrain_epochs_100_target_update_500\n",
      "Testing after_training_MountainCar-v0_episode_500_sample_1_pretrain_epochs_100_target_update_500\n",
      "Testing after_training_MountainCar-v0_episode_500_sample_2_pretrain_epochs_100_target_update_500\n",
      "Testing after_training_MountainCar-v0_episode_500_sample_3_pretrain_epochs_100_target_update_500\n",
      "Testing after_training_MountainCar-v0_episode_500_sample_4_pretrain_epochs_100_target_update_500\n",
      "Testing after_training_MountainCar-v0_episode_500_sample_5_pretrain_epochs_100_target_update_500\n",
      "Testing after_training_MountainCar-v0_episode_500_sample_6_pretrain_epochs_100_target_update_500\n",
      "Testing after_training_MountainCar-v0_episode_500_sample_7_pretrain_epochs_100_target_update_500\n",
      "Testing after_training_MountainCar-v0_episode_500_sample_8_pretrain_epochs_100_target_update_500\n",
      "Testing after_training_MountainCar-v0_episode_500_sample_9_pretrain_epochs_100_target_update_500\n",
      "Saved indices: [4, 0]\n",
      "Testing after_training_MountainCar-v0_episode_1000_sample_0_pretrain_epochs_100_target_update_500\n",
      "Testing after_training_MountainCar-v0_episode_1000_sample_1_pretrain_epochs_100_target_update_500\n",
      "Testing after_training_MountainCar-v0_episode_1000_sample_2_pretrain_epochs_100_target_update_500\n",
      "Testing after_training_MountainCar-v0_episode_1000_sample_3_pretrain_epochs_100_target_update_500\n",
      "Testing after_training_MountainCar-v0_episode_1000_sample_4_pretrain_epochs_100_target_update_500\n",
      "Testing after_training_MountainCar-v0_episode_1000_sample_5_pretrain_epochs_100_target_update_500\n",
      "Testing after_training_MountainCar-v0_episode_1000_sample_6_pretrain_epochs_100_target_update_500\n",
      "Testing after_training_MountainCar-v0_episode_1000_sample_7_pretrain_epochs_100_target_update_500\n",
      "Testing after_training_MountainCar-v0_episode_1000_sample_8_pretrain_epochs_100_target_update_500\n",
      "Testing after_training_MountainCar-v0_episode_1000_sample_9_pretrain_epochs_100_target_update_500\n",
      "Saved indices: [3, 0]\n",
      "Testing after_training_MountainCar-v0_episode_2000_sample_0_pretrain_epochs_100_target_update_500\n",
      "Testing after_training_MountainCar-v0_episode_2000_sample_1_pretrain_epochs_100_target_update_500\n",
      "Testing after_training_MountainCar-v0_episode_2000_sample_2_pretrain_epochs_100_target_update_500\n",
      "Testing after_training_MountainCar-v0_episode_2000_sample_3_pretrain_epochs_100_target_update_500\n",
      "Testing after_training_MountainCar-v0_episode_2000_sample_4_pretrain_epochs_100_target_update_500\n",
      "Testing after_training_MountainCar-v0_episode_2000_sample_5_pretrain_epochs_100_target_update_500\n",
      "Testing after_training_MountainCar-v0_episode_2000_sample_6_pretrain_epochs_100_target_update_500\n",
      "Testing after_training_MountainCar-v0_episode_2000_sample_7_pretrain_epochs_100_target_update_500\n",
      "Testing after_training_MountainCar-v0_episode_2000_sample_8_pretrain_epochs_100_target_update_500\n",
      "Testing after_training_MountainCar-v0_episode_2000_sample_9_pretrain_epochs_100_target_update_500\n",
      "Saved indices: [6, 2]\n",
      "Testing after_training_MountainCar-v0_episode_3000_sample_0_pretrain_epochs_100_target_update_500\n",
      "Testing after_training_MountainCar-v0_episode_3000_sample_1_pretrain_epochs_100_target_update_500\n",
      "Testing after_training_MountainCar-v0_episode_3000_sample_2_pretrain_epochs_100_target_update_500\n",
      "Testing after_training_MountainCar-v0_episode_3000_sample_3_pretrain_epochs_100_target_update_500\n",
      "Testing after_training_MountainCar-v0_episode_3000_sample_4_pretrain_epochs_100_target_update_500\n",
      "Testing after_training_MountainCar-v0_episode_3000_sample_5_pretrain_epochs_100_target_update_500\n",
      "Testing after_training_MountainCar-v0_episode_3000_sample_6_pretrain_epochs_100_target_update_500\n",
      "Testing after_training_MountainCar-v0_episode_3000_sample_7_pretrain_epochs_100_target_update_500\n",
      "Testing after_training_MountainCar-v0_episode_3000_sample_8_pretrain_epochs_100_target_update_500\n",
      "Testing after_training_MountainCar-v0_episode_3000_sample_9_pretrain_epochs_100_target_update_500\n",
      "Saved indices: [2, 5]\n",
      "Testing after_training_MountainCar-v0_episode_4999_sample_0_pretrain_epochs_100_target_update_500\n",
      "Testing after_training_MountainCar-v0_episode_4999_sample_1_pretrain_epochs_100_target_update_500\n",
      "Testing after_training_MountainCar-v0_episode_4999_sample_2_pretrain_epochs_100_target_update_500\n",
      "Testing after_training_MountainCar-v0_episode_4999_sample_3_pretrain_epochs_100_target_update_500\n",
      "Testing after_training_MountainCar-v0_episode_4999_sample_4_pretrain_epochs_100_target_update_500\n",
      "Testing after_training_MountainCar-v0_episode_4999_sample_5_pretrain_epochs_100_target_update_500\n",
      "Testing after_training_MountainCar-v0_episode_4999_sample_6_pretrain_epochs_100_target_update_500\n",
      "Testing after_training_MountainCar-v0_episode_4999_sample_7_pretrain_epochs_100_target_update_500\n",
      "Testing after_training_MountainCar-v0_episode_4999_sample_8_pretrain_epochs_100_target_update_500\n",
      "Testing after_training_MountainCar-v0_episode_4999_sample_9_pretrain_epochs_100_target_update_500\n"
     ]
    },
    {
     "name": "stderr",
     "output_type": "stream",
     "text": [
      "100%|██████████| 500/500 [01:52<00:00,  4.44it/s]\n"
     ]
    },
    {
     "data": {
      "application/vnd.jupyter.widget-view+json": {
       "model_id": "2aefed3d7a134813b912ce4b2bac1704",
       "version_major": 2,
       "version_minor": 0
      },
      "text/plain": [
       "  0%|          | 0/1000 [00:00<?, ?it/s]"
      ]
     },
     "metadata": {},
     "output_type": "display_data"
    },
    {
     "data": {
      "application/vnd.jupyter.widget-view+json": {
       "model_id": "a4fe96be9b1842039ac102526844cab9",
       "version_major": 2,
       "version_minor": 0
      },
      "text/plain": [
       "  0%|          | 0/5000 [00:00<?, ?it/s]"
      ]
     },
     "metadata": {},
     "output_type": "display_data"
    },
    {
     "name": "stdout",
     "output_type": "stream",
     "text": [
      "Saved indices: [8, 0]\n",
      "Testing after_training_MountainCar-v0_episode_100_sample_0_pretrain_epochs_500_target_update_500\n",
      "Testing after_training_MountainCar-v0_episode_100_sample_1_pretrain_epochs_500_target_update_500\n",
      "Testing after_training_MountainCar-v0_episode_100_sample_2_pretrain_epochs_500_target_update_500\n",
      "Testing after_training_MountainCar-v0_episode_100_sample_3_pretrain_epochs_500_target_update_500\n",
      "Testing after_training_MountainCar-v0_episode_100_sample_4_pretrain_epochs_500_target_update_500\n",
      "Testing after_training_MountainCar-v0_episode_100_sample_5_pretrain_epochs_500_target_update_500\n",
      "Testing after_training_MountainCar-v0_episode_100_sample_6_pretrain_epochs_500_target_update_500\n",
      "Testing after_training_MountainCar-v0_episode_100_sample_7_pretrain_epochs_500_target_update_500\n",
      "Testing after_training_MountainCar-v0_episode_100_sample_8_pretrain_epochs_500_target_update_500\n",
      "Testing after_training_MountainCar-v0_episode_100_sample_9_pretrain_epochs_500_target_update_500\n",
      "Saved indices: [4, 6]\n",
      "Testing after_training_MountainCar-v0_episode_500_sample_0_pretrain_epochs_500_target_update_500\n",
      "Testing after_training_MountainCar-v0_episode_500_sample_1_pretrain_epochs_500_target_update_500\n",
      "Testing after_training_MountainCar-v0_episode_500_sample_2_pretrain_epochs_500_target_update_500\n",
      "Testing after_training_MountainCar-v0_episode_500_sample_3_pretrain_epochs_500_target_update_500\n",
      "Testing after_training_MountainCar-v0_episode_500_sample_4_pretrain_epochs_500_target_update_500\n",
      "Testing after_training_MountainCar-v0_episode_500_sample_5_pretrain_epochs_500_target_update_500\n",
      "Testing after_training_MountainCar-v0_episode_500_sample_6_pretrain_epochs_500_target_update_500\n",
      "Testing after_training_MountainCar-v0_episode_500_sample_7_pretrain_epochs_500_target_update_500\n",
      "Testing after_training_MountainCar-v0_episode_500_sample_8_pretrain_epochs_500_target_update_500\n",
      "Testing after_training_MountainCar-v0_episode_500_sample_9_pretrain_epochs_500_target_update_500\n",
      "Saved indices: [7, 8]\n",
      "Testing after_training_MountainCar-v0_episode_1000_sample_0_pretrain_epochs_500_target_update_500\n",
      "Testing after_training_MountainCar-v0_episode_1000_sample_1_pretrain_epochs_500_target_update_500\n",
      "Testing after_training_MountainCar-v0_episode_1000_sample_2_pretrain_epochs_500_target_update_500\n",
      "Testing after_training_MountainCar-v0_episode_1000_sample_3_pretrain_epochs_500_target_update_500\n",
      "Testing after_training_MountainCar-v0_episode_1000_sample_4_pretrain_epochs_500_target_update_500\n",
      "Testing after_training_MountainCar-v0_episode_1000_sample_5_pretrain_epochs_500_target_update_500\n",
      "Testing after_training_MountainCar-v0_episode_1000_sample_6_pretrain_epochs_500_target_update_500\n",
      "Testing after_training_MountainCar-v0_episode_1000_sample_7_pretrain_epochs_500_target_update_500\n",
      "Testing after_training_MountainCar-v0_episode_1000_sample_8_pretrain_epochs_500_target_update_500\n",
      "Testing after_training_MountainCar-v0_episode_1000_sample_9_pretrain_epochs_500_target_update_500\n",
      "Saved indices: [2, 9]\n",
      "Testing after_training_MountainCar-v0_episode_2000_sample_0_pretrain_epochs_500_target_update_500\n",
      "Testing after_training_MountainCar-v0_episode_2000_sample_1_pretrain_epochs_500_target_update_500\n",
      "Testing after_training_MountainCar-v0_episode_2000_sample_2_pretrain_epochs_500_target_update_500\n",
      "Testing after_training_MountainCar-v0_episode_2000_sample_3_pretrain_epochs_500_target_update_500\n",
      "Testing after_training_MountainCar-v0_episode_2000_sample_4_pretrain_epochs_500_target_update_500\n",
      "Testing after_training_MountainCar-v0_episode_2000_sample_5_pretrain_epochs_500_target_update_500\n",
      "Testing after_training_MountainCar-v0_episode_2000_sample_6_pretrain_epochs_500_target_update_500\n",
      "Testing after_training_MountainCar-v0_episode_2000_sample_7_pretrain_epochs_500_target_update_500\n",
      "Testing after_training_MountainCar-v0_episode_2000_sample_8_pretrain_epochs_500_target_update_500\n",
      "Testing after_training_MountainCar-v0_episode_2000_sample_9_pretrain_epochs_500_target_update_500\n",
      "Saved indices: [3, 9]\n",
      "Testing after_training_MountainCar-v0_episode_3000_sample_0_pretrain_epochs_500_target_update_500\n",
      "Testing after_training_MountainCar-v0_episode_3000_sample_1_pretrain_epochs_500_target_update_500\n",
      "Testing after_training_MountainCar-v0_episode_3000_sample_2_pretrain_epochs_500_target_update_500\n",
      "Testing after_training_MountainCar-v0_episode_3000_sample_3_pretrain_epochs_500_target_update_500\n",
      "Testing after_training_MountainCar-v0_episode_3000_sample_4_pretrain_epochs_500_target_update_500\n",
      "Testing after_training_MountainCar-v0_episode_3000_sample_5_pretrain_epochs_500_target_update_500\n",
      "Testing after_training_MountainCar-v0_episode_3000_sample_6_pretrain_epochs_500_target_update_500\n",
      "Testing after_training_MountainCar-v0_episode_3000_sample_7_pretrain_epochs_500_target_update_500\n",
      "Testing after_training_MountainCar-v0_episode_3000_sample_8_pretrain_epochs_500_target_update_500\n",
      "Testing after_training_MountainCar-v0_episode_3000_sample_9_pretrain_epochs_500_target_update_500\n",
      "Saved indices: [9, 8]\n",
      "Testing after_training_MountainCar-v0_episode_4999_sample_0_pretrain_epochs_500_target_update_500\n",
      "Testing after_training_MountainCar-v0_episode_4999_sample_1_pretrain_epochs_500_target_update_500\n",
      "Testing after_training_MountainCar-v0_episode_4999_sample_2_pretrain_epochs_500_target_update_500\n",
      "Testing after_training_MountainCar-v0_episode_4999_sample_3_pretrain_epochs_500_target_update_500\n",
      "Testing after_training_MountainCar-v0_episode_4999_sample_4_pretrain_epochs_500_target_update_500\n",
      "Testing after_training_MountainCar-v0_episode_4999_sample_5_pretrain_epochs_500_target_update_500\n",
      "Testing after_training_MountainCar-v0_episode_4999_sample_6_pretrain_epochs_500_target_update_500\n",
      "Testing after_training_MountainCar-v0_episode_4999_sample_7_pretrain_epochs_500_target_update_500\n",
      "Testing after_training_MountainCar-v0_episode_4999_sample_8_pretrain_epochs_500_target_update_500\n",
      "Testing after_training_MountainCar-v0_episode_4999_sample_9_pretrain_epochs_500_target_update_500\n"
     ]
    },
    {
     "name": "stderr",
     "output_type": "stream",
     "text": [
      "100%|██████████| 10/10 [00:02<00:00,  4.46it/s]\n"
     ]
    },
    {
     "data": {
      "application/vnd.jupyter.widget-view+json": {
       "model_id": "bcaa47be76874dc5885fd2b08049bbc0",
       "version_major": 2,
       "version_minor": 0
      },
      "text/plain": [
       "  0%|          | 0/1000 [00:00<?, ?it/s]"
      ]
     },
     "metadata": {},
     "output_type": "display_data"
    },
    {
     "data": {
      "application/vnd.jupyter.widget-view+json": {
       "model_id": "baea73a82d004befbc251e8861558e9a",
       "version_major": 2,
       "version_minor": 0
      },
      "text/plain": [
       "  0%|          | 0/5000 [00:00<?, ?it/s]"
      ]
     },
     "metadata": {},
     "output_type": "display_data"
    },
    {
     "name": "stdout",
     "output_type": "stream",
     "text": [
      "Saved indices: [6, 4]\n",
      "Testing after_training_MountainCar-v0_episode_100_sample_0_pretrain_epochs_10_target_update_1000\n",
      "Testing after_training_MountainCar-v0_episode_100_sample_1_pretrain_epochs_10_target_update_1000\n",
      "Testing after_training_MountainCar-v0_episode_100_sample_2_pretrain_epochs_10_target_update_1000\n",
      "Testing after_training_MountainCar-v0_episode_100_sample_3_pretrain_epochs_10_target_update_1000\n",
      "Testing after_training_MountainCar-v0_episode_100_sample_4_pretrain_epochs_10_target_update_1000\n",
      "Testing after_training_MountainCar-v0_episode_100_sample_5_pretrain_epochs_10_target_update_1000\n",
      "Testing after_training_MountainCar-v0_episode_100_sample_6_pretrain_epochs_10_target_update_1000\n",
      "Testing after_training_MountainCar-v0_episode_100_sample_7_pretrain_epochs_10_target_update_1000\n",
      "Testing after_training_MountainCar-v0_episode_100_sample_8_pretrain_epochs_10_target_update_1000\n",
      "Testing after_training_MountainCar-v0_episode_100_sample_9_pretrain_epochs_10_target_update_1000\n",
      "Saved indices: [0, 2]\n",
      "Testing after_training_MountainCar-v0_episode_500_sample_0_pretrain_epochs_10_target_update_1000\n",
      "Testing after_training_MountainCar-v0_episode_500_sample_1_pretrain_epochs_10_target_update_1000\n",
      "Testing after_training_MountainCar-v0_episode_500_sample_2_pretrain_epochs_10_target_update_1000\n",
      "Testing after_training_MountainCar-v0_episode_500_sample_3_pretrain_epochs_10_target_update_1000\n",
      "Testing after_training_MountainCar-v0_episode_500_sample_4_pretrain_epochs_10_target_update_1000\n",
      "Testing after_training_MountainCar-v0_episode_500_sample_5_pretrain_epochs_10_target_update_1000\n",
      "Testing after_training_MountainCar-v0_episode_500_sample_6_pretrain_epochs_10_target_update_1000\n",
      "Testing after_training_MountainCar-v0_episode_500_sample_7_pretrain_epochs_10_target_update_1000\n",
      "Testing after_training_MountainCar-v0_episode_500_sample_8_pretrain_epochs_10_target_update_1000\n",
      "Testing after_training_MountainCar-v0_episode_500_sample_9_pretrain_epochs_10_target_update_1000\n",
      "Saved indices: [7, 5]\n",
      "Testing after_training_MountainCar-v0_episode_1000_sample_0_pretrain_epochs_10_target_update_1000\n",
      "Testing after_training_MountainCar-v0_episode_1000_sample_1_pretrain_epochs_10_target_update_1000\n",
      "Testing after_training_MountainCar-v0_episode_1000_sample_2_pretrain_epochs_10_target_update_1000\n",
      "Testing after_training_MountainCar-v0_episode_1000_sample_3_pretrain_epochs_10_target_update_1000\n",
      "Testing after_training_MountainCar-v0_episode_1000_sample_4_pretrain_epochs_10_target_update_1000\n",
      "Testing after_training_MountainCar-v0_episode_1000_sample_5_pretrain_epochs_10_target_update_1000\n",
      "Testing after_training_MountainCar-v0_episode_1000_sample_6_pretrain_epochs_10_target_update_1000\n",
      "Testing after_training_MountainCar-v0_episode_1000_sample_7_pretrain_epochs_10_target_update_1000\n",
      "Testing after_training_MountainCar-v0_episode_1000_sample_8_pretrain_epochs_10_target_update_1000\n",
      "Testing after_training_MountainCar-v0_episode_1000_sample_9_pretrain_epochs_10_target_update_1000\n",
      "Saved indices: [9, 1]\n",
      "Testing after_training_MountainCar-v0_episode_2000_sample_0_pretrain_epochs_10_target_update_1000\n",
      "Testing after_training_MountainCar-v0_episode_2000_sample_1_pretrain_epochs_10_target_update_1000\n",
      "Testing after_training_MountainCar-v0_episode_2000_sample_2_pretrain_epochs_10_target_update_1000\n",
      "Testing after_training_MountainCar-v0_episode_2000_sample_3_pretrain_epochs_10_target_update_1000\n",
      "Testing after_training_MountainCar-v0_episode_2000_sample_4_pretrain_epochs_10_target_update_1000\n",
      "Testing after_training_MountainCar-v0_episode_2000_sample_5_pretrain_epochs_10_target_update_1000\n",
      "Testing after_training_MountainCar-v0_episode_2000_sample_6_pretrain_epochs_10_target_update_1000\n",
      "Testing after_training_MountainCar-v0_episode_2000_sample_7_pretrain_epochs_10_target_update_1000\n",
      "Testing after_training_MountainCar-v0_episode_2000_sample_8_pretrain_epochs_10_target_update_1000\n",
      "Testing after_training_MountainCar-v0_episode_2000_sample_9_pretrain_epochs_10_target_update_1000\n",
      "Saved indices: [0, 4]\n",
      "Testing after_training_MountainCar-v0_episode_3000_sample_0_pretrain_epochs_10_target_update_1000\n",
      "Testing after_training_MountainCar-v0_episode_3000_sample_1_pretrain_epochs_10_target_update_1000\n",
      "Testing after_training_MountainCar-v0_episode_3000_sample_2_pretrain_epochs_10_target_update_1000\n",
      "Testing after_training_MountainCar-v0_episode_3000_sample_3_pretrain_epochs_10_target_update_1000\n",
      "Testing after_training_MountainCar-v0_episode_3000_sample_4_pretrain_epochs_10_target_update_1000\n",
      "Testing after_training_MountainCar-v0_episode_3000_sample_5_pretrain_epochs_10_target_update_1000\n",
      "Testing after_training_MountainCar-v0_episode_3000_sample_6_pretrain_epochs_10_target_update_1000\n",
      "Testing after_training_MountainCar-v0_episode_3000_sample_7_pretrain_epochs_10_target_update_1000\n",
      "Testing after_training_MountainCar-v0_episode_3000_sample_8_pretrain_epochs_10_target_update_1000\n",
      "Testing after_training_MountainCar-v0_episode_3000_sample_9_pretrain_epochs_10_target_update_1000\n",
      "Saved indices: [5, 7]\n",
      "Testing after_training_MountainCar-v0_episode_4999_sample_0_pretrain_epochs_10_target_update_1000\n",
      "Testing after_training_MountainCar-v0_episode_4999_sample_1_pretrain_epochs_10_target_update_1000\n",
      "Testing after_training_MountainCar-v0_episode_4999_sample_2_pretrain_epochs_10_target_update_1000\n",
      "Testing after_training_MountainCar-v0_episode_4999_sample_3_pretrain_epochs_10_target_update_1000\n",
      "Testing after_training_MountainCar-v0_episode_4999_sample_4_pretrain_epochs_10_target_update_1000\n",
      "Testing after_training_MountainCar-v0_episode_4999_sample_5_pretrain_epochs_10_target_update_1000\n",
      "Testing after_training_MountainCar-v0_episode_4999_sample_6_pretrain_epochs_10_target_update_1000\n",
      "Testing after_training_MountainCar-v0_episode_4999_sample_7_pretrain_epochs_10_target_update_1000\n",
      "Testing after_training_MountainCar-v0_episode_4999_sample_8_pretrain_epochs_10_target_update_1000\n",
      "Testing after_training_MountainCar-v0_episode_4999_sample_9_pretrain_epochs_10_target_update_1000\n"
     ]
    },
    {
     "name": "stderr",
     "output_type": "stream",
     "text": [
      "100%|██████████| 100/100 [00:22<00:00,  4.46it/s]\n"
     ]
    },
    {
     "data": {
      "application/vnd.jupyter.widget-view+json": {
       "model_id": "80fb2ab95a024327b309d955a8a35c41",
       "version_major": 2,
       "version_minor": 0
      },
      "text/plain": [
       "  0%|          | 0/1000 [00:00<?, ?it/s]"
      ]
     },
     "metadata": {},
     "output_type": "display_data"
    },
    {
     "data": {
      "application/vnd.jupyter.widget-view+json": {
       "model_id": "eb1b519754344a23a765140b6ba31bed",
       "version_major": 2,
       "version_minor": 0
      },
      "text/plain": [
       "  0%|          | 0/5000 [00:00<?, ?it/s]"
      ]
     },
     "metadata": {},
     "output_type": "display_data"
    },
    {
     "name": "stdout",
     "output_type": "stream",
     "text": [
      "Saved indices: [6, 3]\n",
      "Testing after_training_MountainCar-v0_episode_100_sample_0_pretrain_epochs_100_target_update_1000\n",
      "Testing after_training_MountainCar-v0_episode_100_sample_1_pretrain_epochs_100_target_update_1000\n",
      "Testing after_training_MountainCar-v0_episode_100_sample_2_pretrain_epochs_100_target_update_1000\n",
      "Testing after_training_MountainCar-v0_episode_100_sample_3_pretrain_epochs_100_target_update_1000\n",
      "Testing after_training_MountainCar-v0_episode_100_sample_4_pretrain_epochs_100_target_update_1000\n",
      "Testing after_training_MountainCar-v0_episode_100_sample_5_pretrain_epochs_100_target_update_1000\n",
      "Testing after_training_MountainCar-v0_episode_100_sample_6_pretrain_epochs_100_target_update_1000\n",
      "Testing after_training_MountainCar-v0_episode_100_sample_7_pretrain_epochs_100_target_update_1000\n",
      "Testing after_training_MountainCar-v0_episode_100_sample_8_pretrain_epochs_100_target_update_1000\n",
      "Testing after_training_MountainCar-v0_episode_100_sample_9_pretrain_epochs_100_target_update_1000\n",
      "Saved indices: [9, 6]\n",
      "Testing after_training_MountainCar-v0_episode_500_sample_0_pretrain_epochs_100_target_update_1000\n",
      "Testing after_training_MountainCar-v0_episode_500_sample_1_pretrain_epochs_100_target_update_1000\n",
      "Testing after_training_MountainCar-v0_episode_500_sample_2_pretrain_epochs_100_target_update_1000\n",
      "Testing after_training_MountainCar-v0_episode_500_sample_3_pretrain_epochs_100_target_update_1000\n",
      "Testing after_training_MountainCar-v0_episode_500_sample_4_pretrain_epochs_100_target_update_1000\n",
      "Testing after_training_MountainCar-v0_episode_500_sample_5_pretrain_epochs_100_target_update_1000\n",
      "Testing after_training_MountainCar-v0_episode_500_sample_6_pretrain_epochs_100_target_update_1000\n",
      "Testing after_training_MountainCar-v0_episode_500_sample_7_pretrain_epochs_100_target_update_1000\n",
      "Testing after_training_MountainCar-v0_episode_500_sample_8_pretrain_epochs_100_target_update_1000\n",
      "Testing after_training_MountainCar-v0_episode_500_sample_9_pretrain_epochs_100_target_update_1000\n",
      "Saved indices: [3, 9]\n",
      "Testing after_training_MountainCar-v0_episode_1000_sample_0_pretrain_epochs_100_target_update_1000\n",
      "Testing after_training_MountainCar-v0_episode_1000_sample_1_pretrain_epochs_100_target_update_1000\n",
      "Testing after_training_MountainCar-v0_episode_1000_sample_2_pretrain_epochs_100_target_update_1000\n",
      "Testing after_training_MountainCar-v0_episode_1000_sample_3_pretrain_epochs_100_target_update_1000\n",
      "Testing after_training_MountainCar-v0_episode_1000_sample_4_pretrain_epochs_100_target_update_1000\n",
      "Testing after_training_MountainCar-v0_episode_1000_sample_5_pretrain_epochs_100_target_update_1000\n",
      "Testing after_training_MountainCar-v0_episode_1000_sample_6_pretrain_epochs_100_target_update_1000\n",
      "Testing after_training_MountainCar-v0_episode_1000_sample_7_pretrain_epochs_100_target_update_1000\n",
      "Testing after_training_MountainCar-v0_episode_1000_sample_8_pretrain_epochs_100_target_update_1000\n",
      "Testing after_training_MountainCar-v0_episode_1000_sample_9_pretrain_epochs_100_target_update_1000\n",
      "Saved indices: [6, 1]\n",
      "Testing after_training_MountainCar-v0_episode_2000_sample_0_pretrain_epochs_100_target_update_1000\n",
      "Testing after_training_MountainCar-v0_episode_2000_sample_1_pretrain_epochs_100_target_update_1000\n",
      "Testing after_training_MountainCar-v0_episode_2000_sample_2_pretrain_epochs_100_target_update_1000\n",
      "Testing after_training_MountainCar-v0_episode_2000_sample_3_pretrain_epochs_100_target_update_1000\n",
      "Testing after_training_MountainCar-v0_episode_2000_sample_4_pretrain_epochs_100_target_update_1000\n",
      "Testing after_training_MountainCar-v0_episode_2000_sample_5_pretrain_epochs_100_target_update_1000\n",
      "Testing after_training_MountainCar-v0_episode_2000_sample_6_pretrain_epochs_100_target_update_1000\n",
      "Testing after_training_MountainCar-v0_episode_2000_sample_7_pretrain_epochs_100_target_update_1000\n",
      "Testing after_training_MountainCar-v0_episode_2000_sample_8_pretrain_epochs_100_target_update_1000\n",
      "Testing after_training_MountainCar-v0_episode_2000_sample_9_pretrain_epochs_100_target_update_1000\n",
      "Saved indices: [3, 0]\n",
      "Testing after_training_MountainCar-v0_episode_3000_sample_0_pretrain_epochs_100_target_update_1000\n",
      "Testing after_training_MountainCar-v0_episode_3000_sample_1_pretrain_epochs_100_target_update_1000\n",
      "Testing after_training_MountainCar-v0_episode_3000_sample_2_pretrain_epochs_100_target_update_1000\n",
      "Testing after_training_MountainCar-v0_episode_3000_sample_3_pretrain_epochs_100_target_update_1000\n",
      "Testing after_training_MountainCar-v0_episode_3000_sample_4_pretrain_epochs_100_target_update_1000\n",
      "Testing after_training_MountainCar-v0_episode_3000_sample_5_pretrain_epochs_100_target_update_1000\n",
      "Testing after_training_MountainCar-v0_episode_3000_sample_6_pretrain_epochs_100_target_update_1000\n",
      "Testing after_training_MountainCar-v0_episode_3000_sample_7_pretrain_epochs_100_target_update_1000\n",
      "Testing after_training_MountainCar-v0_episode_3000_sample_8_pretrain_epochs_100_target_update_1000\n",
      "Testing after_training_MountainCar-v0_episode_3000_sample_9_pretrain_epochs_100_target_update_1000\n",
      "Saved indices: [0, 2]\n",
      "Testing after_training_MountainCar-v0_episode_4999_sample_0_pretrain_epochs_100_target_update_1000\n",
      "Testing after_training_MountainCar-v0_episode_4999_sample_1_pretrain_epochs_100_target_update_1000\n",
      "Testing after_training_MountainCar-v0_episode_4999_sample_2_pretrain_epochs_100_target_update_1000\n",
      "Testing after_training_MountainCar-v0_episode_4999_sample_3_pretrain_epochs_100_target_update_1000\n",
      "Testing after_training_MountainCar-v0_episode_4999_sample_4_pretrain_epochs_100_target_update_1000\n",
      "Testing after_training_MountainCar-v0_episode_4999_sample_5_pretrain_epochs_100_target_update_1000\n",
      "Testing after_training_MountainCar-v0_episode_4999_sample_6_pretrain_epochs_100_target_update_1000\n",
      "Testing after_training_MountainCar-v0_episode_4999_sample_7_pretrain_epochs_100_target_update_1000\n",
      "Testing after_training_MountainCar-v0_episode_4999_sample_8_pretrain_epochs_100_target_update_1000\n",
      "Testing after_training_MountainCar-v0_episode_4999_sample_9_pretrain_epochs_100_target_update_1000\n"
     ]
    },
    {
     "name": "stderr",
     "output_type": "stream",
     "text": [
      "100%|██████████| 500/500 [01:52<00:00,  4.44it/s]\n"
     ]
    },
    {
     "data": {
      "application/vnd.jupyter.widget-view+json": {
       "model_id": "63d686894b5c4963baa3cf9c8cc6ddf8",
       "version_major": 2,
       "version_minor": 0
      },
      "text/plain": [
       "  0%|          | 0/1000 [00:00<?, ?it/s]"
      ]
     },
     "metadata": {},
     "output_type": "display_data"
    },
    {
     "data": {
      "application/vnd.jupyter.widget-view+json": {
       "model_id": "05f50696643c4ceaaa37576564b4a3f9",
       "version_major": 2,
       "version_minor": 0
      },
      "text/plain": [
       "  0%|          | 0/5000 [00:00<?, ?it/s]"
      ]
     },
     "metadata": {},
     "output_type": "display_data"
    },
    {
     "name": "stdout",
     "output_type": "stream",
     "text": [
      "Saved indices: [3, 8]\n",
      "Testing after_training_MountainCar-v0_episode_100_sample_0_pretrain_epochs_500_target_update_1000\n",
      "Testing after_training_MountainCar-v0_episode_100_sample_1_pretrain_epochs_500_target_update_1000\n",
      "Testing after_training_MountainCar-v0_episode_100_sample_2_pretrain_epochs_500_target_update_1000\n",
      "Testing after_training_MountainCar-v0_episode_100_sample_3_pretrain_epochs_500_target_update_1000\n",
      "Testing after_training_MountainCar-v0_episode_100_sample_4_pretrain_epochs_500_target_update_1000\n",
      "Testing after_training_MountainCar-v0_episode_100_sample_5_pretrain_epochs_500_target_update_1000\n",
      "Testing after_training_MountainCar-v0_episode_100_sample_6_pretrain_epochs_500_target_update_1000\n",
      "Testing after_training_MountainCar-v0_episode_100_sample_7_pretrain_epochs_500_target_update_1000\n",
      "Testing after_training_MountainCar-v0_episode_100_sample_8_pretrain_epochs_500_target_update_1000\n",
      "Testing after_training_MountainCar-v0_episode_100_sample_9_pretrain_epochs_500_target_update_1000\n",
      "Saved indices: [8, 9]\n",
      "Testing after_training_MountainCar-v0_episode_500_sample_0_pretrain_epochs_500_target_update_1000\n",
      "Testing after_training_MountainCar-v0_episode_500_sample_1_pretrain_epochs_500_target_update_1000\n",
      "Testing after_training_MountainCar-v0_episode_500_sample_2_pretrain_epochs_500_target_update_1000\n",
      "Testing after_training_MountainCar-v0_episode_500_sample_3_pretrain_epochs_500_target_update_1000\n",
      "Testing after_training_MountainCar-v0_episode_500_sample_4_pretrain_epochs_500_target_update_1000\n",
      "Testing after_training_MountainCar-v0_episode_500_sample_5_pretrain_epochs_500_target_update_1000\n",
      "Testing after_training_MountainCar-v0_episode_500_sample_6_pretrain_epochs_500_target_update_1000\n",
      "Testing after_training_MountainCar-v0_episode_500_sample_7_pretrain_epochs_500_target_update_1000\n",
      "Testing after_training_MountainCar-v0_episode_500_sample_8_pretrain_epochs_500_target_update_1000\n",
      "Testing after_training_MountainCar-v0_episode_500_sample_9_pretrain_epochs_500_target_update_1000\n",
      "Saved indices: [2, 3]\n",
      "Testing after_training_MountainCar-v0_episode_1000_sample_0_pretrain_epochs_500_target_update_1000\n",
      "Testing after_training_MountainCar-v0_episode_1000_sample_1_pretrain_epochs_500_target_update_1000\n",
      "Testing after_training_MountainCar-v0_episode_1000_sample_2_pretrain_epochs_500_target_update_1000\n",
      "Testing after_training_MountainCar-v0_episode_1000_sample_3_pretrain_epochs_500_target_update_1000\n",
      "Testing after_training_MountainCar-v0_episode_1000_sample_4_pretrain_epochs_500_target_update_1000\n",
      "Testing after_training_MountainCar-v0_episode_1000_sample_5_pretrain_epochs_500_target_update_1000\n",
      "Testing after_training_MountainCar-v0_episode_1000_sample_6_pretrain_epochs_500_target_update_1000\n",
      "Testing after_training_MountainCar-v0_episode_1000_sample_7_pretrain_epochs_500_target_update_1000\n",
      "Testing after_training_MountainCar-v0_episode_1000_sample_8_pretrain_epochs_500_target_update_1000\n",
      "Testing after_training_MountainCar-v0_episode_1000_sample_9_pretrain_epochs_500_target_update_1000\n",
      "Saved indices: [7, 9]\n",
      "Testing after_training_MountainCar-v0_episode_2000_sample_0_pretrain_epochs_500_target_update_1000\n",
      "Testing after_training_MountainCar-v0_episode_2000_sample_1_pretrain_epochs_500_target_update_1000\n",
      "Testing after_training_MountainCar-v0_episode_2000_sample_2_pretrain_epochs_500_target_update_1000\n",
      "Testing after_training_MountainCar-v0_episode_2000_sample_3_pretrain_epochs_500_target_update_1000\n",
      "Testing after_training_MountainCar-v0_episode_2000_sample_4_pretrain_epochs_500_target_update_1000\n",
      "Testing after_training_MountainCar-v0_episode_2000_sample_5_pretrain_epochs_500_target_update_1000\n",
      "Testing after_training_MountainCar-v0_episode_2000_sample_6_pretrain_epochs_500_target_update_1000\n",
      "Testing after_training_MountainCar-v0_episode_2000_sample_7_pretrain_epochs_500_target_update_1000\n",
      "Testing after_training_MountainCar-v0_episode_2000_sample_8_pretrain_epochs_500_target_update_1000\n",
      "Testing after_training_MountainCar-v0_episode_2000_sample_9_pretrain_epochs_500_target_update_1000\n",
      "Saved indices: [5, 7]\n",
      "Testing after_training_MountainCar-v0_episode_3000_sample_0_pretrain_epochs_500_target_update_1000\n",
      "Testing after_training_MountainCar-v0_episode_3000_sample_1_pretrain_epochs_500_target_update_1000\n",
      "Testing after_training_MountainCar-v0_episode_3000_sample_2_pretrain_epochs_500_target_update_1000\n",
      "Testing after_training_MountainCar-v0_episode_3000_sample_3_pretrain_epochs_500_target_update_1000\n",
      "Testing after_training_MountainCar-v0_episode_3000_sample_4_pretrain_epochs_500_target_update_1000\n",
      "Testing after_training_MountainCar-v0_episode_3000_sample_5_pretrain_epochs_500_target_update_1000\n",
      "Testing after_training_MountainCar-v0_episode_3000_sample_6_pretrain_epochs_500_target_update_1000\n",
      "Testing after_training_MountainCar-v0_episode_3000_sample_7_pretrain_epochs_500_target_update_1000\n",
      "Testing after_training_MountainCar-v0_episode_3000_sample_8_pretrain_epochs_500_target_update_1000\n",
      "Testing after_training_MountainCar-v0_episode_3000_sample_9_pretrain_epochs_500_target_update_1000\n",
      "Saved indices: [2, 5]\n",
      "Testing after_training_MountainCar-v0_episode_4999_sample_0_pretrain_epochs_500_target_update_1000\n",
      "Testing after_training_MountainCar-v0_episode_4999_sample_1_pretrain_epochs_500_target_update_1000\n",
      "Testing after_training_MountainCar-v0_episode_4999_sample_2_pretrain_epochs_500_target_update_1000\n",
      "Testing after_training_MountainCar-v0_episode_4999_sample_3_pretrain_epochs_500_target_update_1000\n",
      "Testing after_training_MountainCar-v0_episode_4999_sample_4_pretrain_epochs_500_target_update_1000\n",
      "Testing after_training_MountainCar-v0_episode_4999_sample_5_pretrain_epochs_500_target_update_1000\n",
      "Testing after_training_MountainCar-v0_episode_4999_sample_6_pretrain_epochs_500_target_update_1000\n",
      "Testing after_training_MountainCar-v0_episode_4999_sample_7_pretrain_epochs_500_target_update_1000\n",
      "Testing after_training_MountainCar-v0_episode_4999_sample_8_pretrain_epochs_500_target_update_1000\n",
      "Testing after_training_MountainCar-v0_episode_4999_sample_9_pretrain_epochs_500_target_update_1000\n",
      "Finished training for MountainCar-v0\n"
     ]
    },
    {
     "name": "stderr",
     "output_type": "stream",
     "text": [
      "100%|██████████| 10/10 [00:02<00:00,  4.34it/s]\n"
     ]
    },
    {
     "data": {
      "application/vnd.jupyter.widget-view+json": {
       "model_id": "5df30205bd0b47c5bd5af4c19724c276",
       "version_major": 2,
       "version_minor": 0
      },
      "text/plain": [
       "  0%|          | 0/1000 [00:00<?, ?it/s]"
      ]
     },
     "metadata": {},
     "output_type": "display_data"
    },
    {
     "data": {
      "application/vnd.jupyter.widget-view+json": {
       "model_id": "8143a928ff93446a9090b146de3a186a",
       "version_major": 2,
       "version_minor": 0
      },
      "text/plain": [
       "  0%|          | 0/5000 [00:00<?, ?it/s]"
      ]
     },
     "metadata": {},
     "output_type": "display_data"
    },
    {
     "name": "stdout",
     "output_type": "stream",
     "text": [
      "Saved indices: [1, 9]\n",
      "Testing after_training_Acrobot-v1_episode_100_sample_0_pretrain_epochs_10_target_update_100\n",
      "Testing after_training_Acrobot-v1_episode_100_sample_1_pretrain_epochs_10_target_update_100\n",
      "Testing after_training_Acrobot-v1_episode_100_sample_2_pretrain_epochs_10_target_update_100\n",
      "Testing after_training_Acrobot-v1_episode_100_sample_3_pretrain_epochs_10_target_update_100\n",
      "Testing after_training_Acrobot-v1_episode_100_sample_4_pretrain_epochs_10_target_update_100\n",
      "Testing after_training_Acrobot-v1_episode_100_sample_5_pretrain_epochs_10_target_update_100\n",
      "Testing after_training_Acrobot-v1_episode_100_sample_6_pretrain_epochs_10_target_update_100\n",
      "Testing after_training_Acrobot-v1_episode_100_sample_7_pretrain_epochs_10_target_update_100\n",
      "Testing after_training_Acrobot-v1_episode_100_sample_8_pretrain_epochs_10_target_update_100\n",
      "Testing after_training_Acrobot-v1_episode_100_sample_9_pretrain_epochs_10_target_update_100\n"
     ]
    }
   ],
   "source": [
    "for env_name, pretrain_data in envs.items():\n",
    "    for target_update in target_updates:\n",
    "        for pretrain_epoch in pretrain_epochs:\n",
    "            easy_train(\n",
    "                env_name=env_name,\n",
    "                train_vis_points=train_vis_points,\n",
    "                num_training_episodes=episodes,\n",
    "                pretrain_data_path=pretrain_data,\n",
    "                pretrain_epochs=pretrain_epoch,\n",
    "                target_update=target_update,\n",
    "                video_output_dir=f\"./tmpvideo/{env_name}\",\n",
    "                rewards_output_dir=f\"./tmp/{env_name}\",\n",
    "                graph_output_dir=f\"./tmpgraphs/{env_name}\",\n",
    "                save_model_path=f\"./tmpmodels/{env_name}\",\n",
    "                device=device\n",
    "            )\n",
    "    print(f\"Finished training for {env_name}\")"
   ]
  }
 ],
 "metadata": {
  "kernelspec": {
   "display_name": ".venv",
   "language": "python",
   "name": "python3"
  },
  "language_info": {
   "codemirror_mode": {
    "name": "ipython",
    "version": 3
   },
   "file_extension": ".py",
   "mimetype": "text/x-python",
   "name": "python",
   "nbconvert_exporter": "python",
   "pygments_lexer": "ipython3",
   "version": "3.11.7"
  }
 },
 "nbformat": 4,
 "nbformat_minor": 2
}
