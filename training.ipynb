{
 "cells": [
  {
   "cell_type": "code",
   "execution_count": 1,
   "metadata": {},
   "outputs": [
    {
     "name": "stderr",
     "output_type": "stream",
     "text": [
      "/run/media/john/Secondary/Documents/Cornell/Spring 2024/CS4756 Robot Learning/il-pre-train-dqn/.venv/lib64/python3.11/site-packages/gymnasium/utils/play.py:29: UserWarning: \u001b[33mWARN: matplotlib is not installed, run `pip install gymnasium[other]`\u001b[0m\n",
      "  logger.warn(\"matplotlib is not installed, run `pip install gymnasium[other]`\")\n"
     ]
    }
   ],
   "source": [
    "from src.training.services.easy_train import easy_train\n",
    "import torch"
   ]
  },
  {
   "cell_type": "code",
   "execution_count": 2,
   "metadata": {},
   "outputs": [],
   "source": [
    "episodes = 5000\n",
    "train_vis_points = [100, 300, 600, 1000, 2000, 3000, 4999]"
   ]
  },
  {
   "cell_type": "code",
   "execution_count": 3,
   "metadata": {},
   "outputs": [],
   "source": [
    "target_updates = [100, 500, 1000]\n",
    "pretrain_epochs = [10, 100, 500]"
   ]
  },
  {
   "cell_type": "code",
   "execution_count": 4,
   "metadata": {},
   "outputs": [],
   "source": [
    "envs = {\n",
    "    \"MountainCar-v0\": \"./src/pretrain/data/MountainCar-v0_10_000.npy\",\n",
    "    \"Acrobot-v1\": \"src/pretrain/data/Acrobot-v1_10_000.npy\",\n",
    "    \"LunarLander-v2\": \"src/pretrain/data/LunarLander-v2_10_000.npy\"\n",
    "}"
   ]
  },
  {
   "cell_type": "code",
   "execution_count": 5,
   "metadata": {},
   "outputs": [],
   "source": [
    "device = torch.device(\"cuda\" if torch.cuda.is_available() else \"cpu\")"
   ]
  },
  {
   "cell_type": "code",
   "execution_count": null,
   "metadata": {},
   "outputs": [],
   "source": [
    "for env_name, pretrain_data in envs.items():\n",
    "    for target_update in target_updates:\n",
    "        for pretrain_epoch in pretrain_epochs:\n",
    "            easy_train(\n",
    "                env_name=env_name,\n",
    "                train_vis_points=train_vis_points,\n",
    "                num_training_episodes=episodes,\n",
    "                pretrain_data_path=pretrain_data,\n",
    "                pretrain_epochs=pretrain_epoch,\n",
    "                target_update=target_update,\n",
    "                video_output_dir=f\"./tmpvideo/{env_name}\",\n",
    "                rewards_output_dir=f\"./tmp/{env_name}\",\n",
    "                graph_output_dir=f\"./tmpgraphs/{env_name}\",\n",
    "                save_model_path=f\"./tmpmodels/{env_name}\",\n",
    "                device=device\n",
    "            )"
   ]
  }
 ],
 "metadata": {
  "kernelspec": {
   "display_name": ".venv",
   "language": "python",
   "name": "python3"
  },
  "language_info": {
   "codemirror_mode": {
    "name": "ipython",
    "version": 3
   },
   "file_extension": ".py",
   "mimetype": "text/x-python",
   "name": "python",
   "nbconvert_exporter": "python",
   "pygments_lexer": "ipython3",
   "version": "3.11.7"
  }
 },
 "nbformat": 4,
 "nbformat_minor": 2
}
