{
 "cells": [
  {
   "cell_type": "code",
   "execution_count": 1,
   "metadata": {
    "ExecuteTime": {
     "end_time": "2024-04-24T17:03:13.148514400Z",
     "start_time": "2024-04-24T17:03:09.839912100Z"
    }
   },
   "outputs": [],
   "source": [
    "import gymnasium as gym\n",
    "import torch\n",
    "from src.data.services.dimensions import get_dims\n",
    "import json"
   ]
  },
  {
   "cell_type": "code",
   "execution_count": 2,
   "metadata": {
    "ExecuteTime": {
     "end_time": "2024-04-24T17:03:13.164459600Z",
     "start_time": "2024-04-24T17:03:13.151461800Z"
    }
   },
   "outputs": [],
   "source": [
    "env_name = \"Acrobot-v1\""
   ]
  },
  {
   "cell_type": "code",
   "execution_count": 3,
   "metadata": {
    "ExecuteTime": {
     "end_time": "2024-04-24T17:03:13.196460200Z",
     "start_time": "2024-04-24T17:03:13.167462300Z"
    }
   },
   "outputs": [],
   "source": [
    "env = gym.make(env_name)"
   ]
  },
  {
   "cell_type": "code",
   "execution_count": 4,
   "metadata": {
    "ExecuteTime": {
     "end_time": "2024-04-24T17:03:13.212464Z",
     "start_time": "2024-04-24T17:03:13.198463200Z"
    }
   },
   "outputs": [],
   "source": [
    "from src.nn.services.dqn import DQN"
   ]
  },
  {
   "cell_type": "code",
   "execution_count": 5,
   "metadata": {
    "ExecuteTime": {
     "end_time": "2024-04-24T17:03:13.233464500Z",
     "start_time": "2024-04-24T17:03:13.216467400Z"
    }
   },
   "outputs": [],
   "source": [
    "state_dim, action_dim = get_dims(env)"
   ]
  },
  {
   "cell_type": "code",
   "execution_count": 6,
   "metadata": {
    "ExecuteTime": {
     "end_time": "2024-04-24T17:03:13.244461800Z",
     "start_time": "2024-04-24T17:03:13.231460300Z"
    }
   },
   "outputs": [],
   "source": [
    "device = torch.device(\"cuda\" if torch.cuda.is_available() else \"cpu\")"
   ]
  },
  {
   "cell_type": "code",
   "execution_count": 7,
   "metadata": {
    "ExecuteTime": {
     "end_time": "2024-04-24T17:03:13.264462800Z",
     "start_time": "2024-04-24T17:03:13.247461700Z"
    }
   },
   "outputs": [],
   "source": [
    "dqn_golden = DQN(state_dim, action_dim).to(device)"
   ]
  },
  {
   "cell_type": "code",
   "execution_count": 8,
   "metadata": {
    "ExecuteTime": {
     "end_time": "2024-04-24T17:03:14.787595700Z",
     "start_time": "2024-04-24T17:03:13.992464500Z"
    }
   },
   "outputs": [],
   "source": [
    "from src.training.services.train import full_training as train"
   ]
  },
  {
   "cell_type": "code",
   "execution_count": 9,
   "metadata": {
    "ExecuteTime": {
     "end_time": "2024-04-24T17:03:15.149730100Z",
     "start_time": "2024-04-24T17:03:15.137728300Z"
    }
   },
   "outputs": [],
   "source": [
    "from src.data.services.memory import ReplayMemory"
   ]
  },
  {
   "cell_type": "code",
   "execution_count": 10,
   "metadata": {
    "ExecuteTime": {
     "end_time": "2024-04-24T17:03:16.435218400Z",
     "start_time": "2024-04-24T17:03:16.420217900Z"
    }
   },
   "outputs": [],
   "source": [
    "from torch.optim import Adam"
   ]
  },
  {
   "cell_type": "code",
   "execution_count": 11,
   "metadata": {
    "ExecuteTime": {
     "end_time": "2024-04-24T17:03:17.428218200Z",
     "start_time": "2024-04-24T17:03:17.409215200Z"
    }
   },
   "outputs": [],
   "source": [
    "batch_size = 64\n",
    "gamma = 0.99\n",
    "num_episodes = 10000\n",
    "target_update = 50\n",
    "epsilon = 0.25"
   ]
  },
  {
   "cell_type": "code",
   "execution_count": 12,
   "metadata": {
    "ExecuteTime": {
     "end_time": "2024-04-24T17:03:18.433705700Z",
     "start_time": "2024-04-24T17:03:18.420708Z"
    }
   },
   "outputs": [],
   "source": [
    "import cv2"
   ]
  },
  {
   "cell_type": "code",
   "execution_count": 13,
   "metadata": {
    "ExecuteTime": {
     "end_time": "2024-04-24T17:03:19.020101200Z",
     "start_time": "2024-04-24T17:03:19.004069500Z"
    }
   },
   "outputs": [],
   "source": [
    "def create_video(frames, fps=10, output_name=\"output\"):\n",
    "    out = cv2.VideoWriter(f\"{output_name}.mp4\", cv2.VideoWriter_fourcc(*'mp4v'), fps, (frames[0].shape[1], frames[0].shape[0]))\n",
    "    for frame in frames:\n",
    "        out.write(frame)\n",
    "    out.release()"
   ]
  },
  {
   "cell_type": "code",
   "execution_count": 14,
   "metadata": {
    "ExecuteTime": {
     "end_time": "2024-04-24T17:03:20.171133500Z",
     "start_time": "2024-04-24T17:03:20.153120500Z"
    }
   },
   "outputs": [],
   "source": [
    "from src.policy.services.epsilon_greedy import epsilon_greedy"
   ]
  },
  {
   "cell_type": "code",
   "execution_count": 15,
   "metadata": {
    "ExecuteTime": {
     "end_time": "2024-04-24T17:03:20.962570300Z",
     "start_time": "2024-04-24T17:03:20.940568300Z"
    }
   },
   "outputs": [],
   "source": [
    "def test_dqn(dqn, env, device, output_name=\"output\", output_dir=\"./tmpvideo\"):\n",
    "    frames = []\n",
    "    rewards = []\n",
    "    for i in range(10):\n",
    "        cum_reward = 0\n",
    "        state, _ = env.reset()\n",
    "        done = False\n",
    "        while not done:\n",
    "            if i == 0:\n",
    "                frames.append(env.render())\n",
    "            action = epsilon_greedy(\n",
    "                torch.tensor(state, dtype=torch.float32).unsqueeze(0).to(device), dqn, 0)\n",
    "            next_state, reward, terminated, truncated, _ = env.step(action)\n",
    "            cum_reward += reward\n",
    "            done = terminated or truncated\n",
    "            state = next_state\n",
    "        rewards.append(cum_reward)\n",
    "    create_video(frames, output_name=f\"{output_dir}/{output_name}\")\n",
    "    return rewards"
   ]
  },
  {
   "cell_type": "code",
   "execution_count": 16,
   "metadata": {
    "ExecuteTime": {
     "end_time": "2024-04-24T17:03:24.883680800Z",
     "start_time": "2024-04-24T17:03:21.835395300Z"
    }
   },
   "outputs": [],
   "source": [
    "bf_rewards = test_dqn(dqn_golden, gym.make(env_name, render_mode=\"rgb_array\"), device, output_name=\"before_training_acrobot\")"
   ]
  },
  {
   "cell_type": "code",
   "outputs": [
    {
     "name": "stdout",
     "output_type": "stream",
     "text": [
      "[-500.0, -500.0, -500.0, -500.0, -500.0, -500.0, -500.0, -500.0, -500.0, -500.0]\n"
     ]
    }
   ],
   "source": [
    "print(bf_rewards)"
   ],
   "metadata": {
    "collapsed": false,
    "ExecuteTime": {
     "end_time": "2024-04-24T17:03:26.505042900Z",
     "start_time": "2024-04-24T17:03:26.495045Z"
    }
   },
   "execution_count": 17
  },
  {
   "cell_type": "code",
   "execution_count": 18,
   "metadata": {
    "ExecuteTime": {
     "end_time": "2024-04-24T17:03:33.291657200Z",
     "start_time": "2024-04-24T17:03:32.051656800Z"
    }
   },
   "outputs": [],
   "source": [
    "pretrain_path = \"./src/pretrain/data/Acrobot-v1_10_000.npy\"\n",
    "pretrain_epochs = 100\n",
    "pretrain_batch_size = batch_size\n",
    "pretrain_optm_lr = 0.001\n",
    "pretrain_optimizer = Adam(dqn_golden.parameters(), lr=pretrain_optm_lr)"
   ]
  },
  {
   "cell_type": "code",
   "execution_count": 19,
   "metadata": {
    "ExecuteTime": {
     "end_time": "2024-04-24T17:03:33.410658Z",
     "start_time": "2024-04-24T17:03:33.397659300Z"
    }
   },
   "outputs": [],
   "source": [
    "from tqdm.auto import tqdm"
   ]
  },
  {
   "cell_type": "code",
   "execution_count": 20,
   "metadata": {
    "ExecuteTime": {
     "end_time": "2024-04-24T17:04:23.380412500Z",
     "start_time": "2024-04-24T17:03:34.150499800Z"
    }
   },
   "outputs": [
    {
     "name": "stderr",
     "output_type": "stream",
     "text": [
      "100%|██████████| 100/100 [00:48<00:00,  2.05it/s]\n"
     ]
    }
   ],
   "source": [
    "from src.pretrain.services.train import pre_train\n",
    "pre_train(\n",
    "    dqn_golden,\n",
    "    pretrain_optimizer,\n",
    "    pretrain_path,\n",
    "    pretrain_epochs,\n",
    "    pretrain_batch_size,\n",
    "    device=device,\n",
    ")"
   ]
  },
  {
   "cell_type": "code",
   "execution_count": 22,
   "metadata": {
    "ExecuteTime": {
     "end_time": "2024-04-24T17:16:42.600825300Z",
     "start_time": "2024-04-24T17:16:40.836184Z"
    }
   },
   "outputs": [],
   "source": [
    "pretrain_rewards = test_dqn(dqn_golden, gym.make(env_name, render_mode=\"rgb_array\"), device, output_name=\"pretrain_acrobot\")"
   ]
  },
  {
   "cell_type": "code",
   "outputs": [
    {
     "name": "stdout",
     "output_type": "stream",
     "text": [
      "[-307.0, -278.0, -116.0, -119.0, -500.0, -226.0, -256.0, -500.0, -147.0, -318.0]\n"
     ]
    }
   ],
   "source": [
    "print(pretrain_rewards)"
   ],
   "metadata": {
    "collapsed": false,
    "ExecuteTime": {
     "end_time": "2024-04-24T17:16:43.907946500Z",
     "start_time": "2024-04-24T17:16:43.900943700Z"
    }
   },
   "execution_count": 23
  },
  {
   "cell_type": "code",
   "outputs": [],
   "source": [],
   "metadata": {
    "collapsed": false
   }
  }
 ],
 "metadata": {
  "kernelspec": {
   "display_name": ".venv",
   "language": "python",
   "name": "python3"
  },
  "language_info": {
   "codemirror_mode": {
    "name": "ipython",
    "version": 3
   },
   "file_extension": ".py",
   "mimetype": "text/x-python",
   "name": "python",
   "nbconvert_exporter": "python",
   "pygments_lexer": "ipython3",
   "version": "3.11.7"
  }
 },
 "nbformat": 4,
 "nbformat_minor": 2
}
