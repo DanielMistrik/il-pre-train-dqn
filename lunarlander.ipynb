{
 "cells": [
  {
   "cell_type": "code",
   "execution_count": 1,
   "metadata": {},
   "outputs": [],
   "source": [
    "import gymnasium as gym\n",
    "import torch\n",
    "from src.data.services.dimensions import get_dims"
   ]
  },
  {
   "cell_type": "code",
   "execution_count": 2,
   "metadata": {},
   "outputs": [],
   "source": [
    "env_name = \"LunarLander-v2\""
   ]
  },
  {
   "cell_type": "code",
   "execution_count": 3,
   "metadata": {},
   "outputs": [],
   "source": [
    "env = gym.make(env_name)"
   ]
  },
  {
   "cell_type": "code",
   "execution_count": 4,
   "metadata": {},
   "outputs": [],
   "source": [
    "from src.nn.services.dqn import DQN"
   ]
  },
  {
   "cell_type": "code",
   "execution_count": 5,
   "metadata": {},
   "outputs": [],
   "source": [
    "state_dim, action_dim = get_dims(env)"
   ]
  },
  {
   "cell_type": "code",
   "execution_count": 6,
   "metadata": {},
   "outputs": [],
   "source": [
    "dqn = DQN(state_dim, action_dim)"
   ]
  },
  {
   "cell_type": "code",
   "execution_count": 7,
   "metadata": {},
   "outputs": [],
   "source": [
    "device = torch.device(\"cuda\" if torch.cuda.is_available() else \"cpu\")"
   ]
  },
  {
   "cell_type": "code",
   "execution_count": 8,
   "metadata": {},
   "outputs": [],
   "source": [
    "dqn = dqn.to(device)"
   ]
  },
  {
   "cell_type": "code",
   "execution_count": 9,
   "metadata": {},
   "outputs": [],
   "source": [
    "from src.training.services.train import train"
   ]
  },
  {
   "cell_type": "code",
   "execution_count": 10,
   "metadata": {},
   "outputs": [],
   "source": [
    "from src.data.services.memory import ReplayMemory"
   ]
  },
  {
   "cell_type": "code",
   "execution_count": 11,
   "metadata": {},
   "outputs": [],
   "source": [
    "rm = ReplayMemory(10000)"
   ]
  },
  {
   "cell_type": "code",
   "execution_count": 12,
   "metadata": {},
   "outputs": [],
   "source": [
    "target_net = DQN(state_dim, action_dim)"
   ]
  },
  {
   "cell_type": "code",
   "execution_count": 13,
   "metadata": {},
   "outputs": [
    {
     "data": {
      "text/plain": [
       "<All keys matched successfully>"
      ]
     },
     "execution_count": 13,
     "metadata": {},
     "output_type": "execute_result"
    }
   ],
   "source": [
    "target_net.load_state_dict(dqn.state_dict())"
   ]
  },
  {
   "cell_type": "code",
   "execution_count": 14,
   "metadata": {},
   "outputs": [],
   "source": [
    "target_net = target_net.to(device)"
   ]
  },
  {
   "cell_type": "code",
   "execution_count": 15,
   "metadata": {},
   "outputs": [],
   "source": [
    "from torch.optim import Adam"
   ]
  },
  {
   "cell_type": "code",
   "execution_count": 16,
   "metadata": {},
   "outputs": [],
   "source": [
    "optm = Adam(dqn.parameters(), lr=0.001)"
   ]
  },
  {
   "cell_type": "code",
   "execution_count": 17,
   "metadata": {},
   "outputs": [],
   "source": [
    "batch_size = 32\n",
    "gamma = 0.99\n",
    "num_episodes = 10000\n",
    "target_update = 10\n",
    "epsilon = 0.1"
   ]
  },
  {
   "cell_type": "code",
   "execution_count": 18,
   "metadata": {},
   "outputs": [],
   "source": [
    "import cv2"
   ]
  },
  {
   "cell_type": "code",
   "execution_count": 19,
   "metadata": {},
   "outputs": [],
   "source": [
    "def create_video(frames, fps=10, output_name=\"output\"):\n",
    "    out = cv2.VideoWriter(f\"{output_name}.mp4\", cv2.VideoWriter_fourcc(*'mp4v'), fps, (frames[0].shape[1], frames[0].shape[0]))\n",
    "    for frame in frames:\n",
    "        out.write(frame)\n",
    "    out.release()"
   ]
  },
  {
   "cell_type": "code",
   "execution_count": 20,
   "metadata": {},
   "outputs": [],
   "source": [
    "from src.policy.services.epsilon_greedy import epsilon_greedy"
   ]
  },
  {
   "cell_type": "code",
   "execution_count": 27,
   "metadata": {},
   "outputs": [],
   "source": [
    "def test_dqn(dqn, env, device, output_name=\"output\"):\n",
    "    frames = []\n",
    "    rewards = []\n",
    "    state, _ = env.reset()\n",
    "    done = False\n",
    "    while not done:\n",
    "        frames.append(env.render())\n",
    "        action = epsilon_greedy(\n",
    "            torch.tensor(state, dtype=torch.float32).unsqueeze(0).to(device), dqn, 0)\n",
    "        next_state, reward, terminated, truncated, _ = env.step(action)\n",
    "        rewards.append(reward)\n",
    "        done = terminated or truncated\n",
    "        state = next_state\n",
    "    create_video(frames, output_name=output_name)\n",
    "    return rewards"
   ]
  },
  {
   "cell_type": "code",
   "execution_count": 22,
   "metadata": {},
   "outputs": [],
   "source": [
    "bfr = test_dqn(dqn, gym.make(env_name, render_mode=\"rgb_array\"), device, output_name=\"before_training_lunar_lander\")"
   ]
  },
  {
   "cell_type": "code",
   "execution_count": 23,
   "metadata": {},
   "outputs": [
    {
     "data": {
      "application/vnd.jupyter.widget-view+json": {
       "model_id": "9b1cd32c48c2470daba7fc565b2ad301",
       "version_major": 2,
       "version_minor": 0
      },
      "text/plain": [
       "  0%|          | 0/10000 [00:00<?, ?it/s]"
      ]
     },
     "metadata": {},
     "output_type": "display_data"
    }
   ],
   "source": [
    "train(\n",
    "    env,\n",
    "    rm,\n",
    "    dqn,\n",
    "    target_net,\n",
    "    optm,\n",
    "    batch_size,\n",
    "    gamma,\n",
    "    device,\n",
    "    num_episodes,\n",
    "    epsilon,\n",
    "    target_update\n",
    ")"
   ]
  },
  {
   "cell_type": "code",
   "execution_count": 28,
   "metadata": {},
   "outputs": [],
   "source": [
    "ar = test_dqn(dqn, gym.make(env_name, render_mode=\"rgb_array\"), device, output_name=\"after_training_lunar_lander\")"
   ]
  },
  {
   "cell_type": "code",
   "execution_count": 29,
   "metadata": {},
   "outputs": [
    {
     "data": {
      "text/plain": [
       "[-1.1690059378129547,\n",
       " -1.2707376472253884,\n",
       " -1.2428917626960754,\n",
       " -1.215026785475203,\n",
       " -1.1849563551311917,\n",
       " -1.152857711561495,\n",
       " -1.1187729245358184,\n",
       " -1.0829673446362733,\n",
       " -1.0455451991578286,\n",
       " -1.006726738783243,\n",
       " -0.9666645953565194,\n",
       " -0.925445113264459,\n",
       " -0.8831985198620771,\n",
       " -0.8401118869306003,\n",
       " -0.7962102488471601,\n",
       " -0.7516562172953627,\n",
       " -0.706520693577886,\n",
       " -0.6609014700523801,\n",
       " -0.6149086534049673,\n",
       " -0.5686314549139411,\n",
       " -0.5221802312233876,\n",
       " -0.47563569401657446,\n",
       " -0.4290721988277255,\n",
       " -0.3826732718635242,\n",
       " -0.41674297511730174,\n",
       " -0.2882865344874972,\n",
       " -0.24313687340250567,\n",
       " -0.19873317168256222,\n",
       " -0.15530474959922458,\n",
       " -0.11309527979466338,\n",
       " -0.07239112507434697,\n",
       " -0.03362402447999102,\n",
       " 0.0027430133253290023,\n",
       " 0.03609634123378669,\n",
       " 0.0656470817426964,\n",
       " 0.0904497350228155,\n",
       " 0.10910494491727718,\n",
       " 0.11991310932702959,\n",
       " 0.12050084797027694,\n",
       " 0.10771563650496319,\n",
       " 0.07710185400938485,\n",
       " 0.022546866418622358,\n",
       " -0.06446343677663435,\n",
       " -0.19581141101070898,\n",
       " -0.38769098715147265,\n",
       " -0.6611256067972704,\n",
       " -1.040508030030594,\n",
       " -1.547663732758764,\n",
       " 7.810851364382671,\n",
       " 6.828271036815494,\n",
       " -100]"
      ]
     },
     "execution_count": 29,
     "metadata": {},
     "output_type": "execute_result"
    }
   ],
   "source": [
    "ar"
   ]
  },
  {
   "cell_type": "code",
   "execution_count": null,
   "metadata": {},
   "outputs": [],
   "source": []
  }
 ],
 "metadata": {
  "kernelspec": {
   "display_name": ".venv",
   "language": "python",
   "name": "python3"
  },
  "language_info": {
   "codemirror_mode": {
    "name": "ipython",
    "version": 3
   },
   "file_extension": ".py",
   "mimetype": "text/x-python",
   "name": "python",
   "nbconvert_exporter": "python",
   "pygments_lexer": "ipython3",
   "version": "3.11.7"
  }
 },
 "nbformat": 4,
 "nbformat_minor": 2
}
