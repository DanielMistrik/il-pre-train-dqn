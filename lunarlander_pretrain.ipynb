{
 "cells": [
  {
   "cell_type": "code",
   "execution_count": 1,
   "metadata": {
    "ExecuteTime": {
     "end_time": "2024-04-23T23:15:21.353683100Z",
     "start_time": "2024-04-23T23:15:17.775680400Z"
    }
   },
   "outputs": [],
   "source": [
    "import gymnasium as gym\n",
    "import torch\n",
    "from src.data.services.dimensions import get_dims\n",
    "import json"
   ]
  },
  {
   "cell_type": "code",
   "execution_count": 2,
   "metadata": {
    "ExecuteTime": {
     "end_time": "2024-04-23T23:15:25.193742400Z",
     "start_time": "2024-04-23T23:15:25.178745500Z"
    }
   },
   "outputs": [],
   "source": [
    "env_name = \"LunarLander-v2\""
   ]
  },
  {
   "cell_type": "code",
   "execution_count": 3,
   "metadata": {
    "ExecuteTime": {
     "end_time": "2024-04-23T23:15:26.665775500Z",
     "start_time": "2024-04-23T23:15:26.560742100Z"
    }
   },
   "outputs": [],
   "source": [
    "env = gym.make(env_name)"
   ]
  },
  {
   "cell_type": "code",
   "execution_count": 4,
   "metadata": {
    "ExecuteTime": {
     "end_time": "2024-04-23T23:15:27.766742300Z",
     "start_time": "2024-04-23T23:15:27.731744400Z"
    }
   },
   "outputs": [],
   "source": [
    "from src.nn.services.dqn import DQN"
   ]
  },
  {
   "cell_type": "code",
   "execution_count": 5,
   "metadata": {
    "ExecuteTime": {
     "end_time": "2024-04-23T23:15:28.663739800Z",
     "start_time": "2024-04-23T23:15:28.634741400Z"
    }
   },
   "outputs": [],
   "source": [
    "state_dim, action_dim = get_dims(env)"
   ]
  },
  {
   "cell_type": "code",
   "execution_count": 6,
   "metadata": {
    "ExecuteTime": {
     "end_time": "2024-04-23T23:15:28.970743400Z",
     "start_time": "2024-04-23T23:15:28.944745600Z"
    }
   },
   "outputs": [],
   "source": [
    "device = torch.device(\"cuda\" if torch.cuda.is_available() else \"cpu\")"
   ]
  },
  {
   "cell_type": "code",
   "execution_count": 39,
   "metadata": {
    "ExecuteTime": {
     "end_time": "2024-04-23T23:22:15.458899400Z",
     "start_time": "2024-04-23T23:22:15.441903Z"
    }
   },
   "outputs": [],
   "source": [
    "dqn_golden = DQN(state_dim, action_dim).to(device)"
   ]
  },
  {
   "cell_type": "code",
   "execution_count": 40,
   "metadata": {
    "ExecuteTime": {
     "end_time": "2024-04-23T23:22:16.044272600Z",
     "start_time": "2024-04-23T23:22:16.035274200Z"
    }
   },
   "outputs": [],
   "source": [
    "from src.training.services.train import full_training as train"
   ]
  },
  {
   "cell_type": "code",
   "execution_count": 41,
   "metadata": {
    "ExecuteTime": {
     "end_time": "2024-04-23T23:22:16.675272600Z",
     "start_time": "2024-04-23T23:22:16.667270900Z"
    }
   },
   "outputs": [],
   "source": [
    "from src.data.services.memory import ReplayMemory"
   ]
  },
  {
   "cell_type": "code",
   "execution_count": 42,
   "metadata": {
    "ExecuteTime": {
     "end_time": "2024-04-23T23:22:17.649860900Z",
     "start_time": "2024-04-23T23:22:17.635838800Z"
    }
   },
   "outputs": [],
   "source": [
    "from torch.optim import Adam"
   ]
  },
  {
   "cell_type": "code",
   "execution_count": 43,
   "metadata": {
    "ExecuteTime": {
     "end_time": "2024-04-23T23:22:18.483025700Z",
     "start_time": "2024-04-23T23:22:18.467027100Z"
    }
   },
   "outputs": [],
   "source": [
    "batch_size = 64\n",
    "gamma = 0.99\n",
    "num_episodes = 10000\n",
    "target_update = 50\n",
    "epsilon = 0.25"
   ]
  },
  {
   "cell_type": "code",
   "execution_count": 44,
   "metadata": {
    "ExecuteTime": {
     "end_time": "2024-04-23T23:22:19.609961900Z",
     "start_time": "2024-04-23T23:22:19.604955900Z"
    }
   },
   "outputs": [],
   "source": [
    "import cv2"
   ]
  },
  {
   "cell_type": "code",
   "execution_count": 45,
   "metadata": {
    "ExecuteTime": {
     "end_time": "2024-04-23T23:22:20.069067700Z",
     "start_time": "2024-04-23T23:22:20.056068700Z"
    }
   },
   "outputs": [],
   "source": [
    "def create_video(frames, fps=10, output_name=\"output\"):\n",
    "    out = cv2.VideoWriter(f\"{output_name}.mp4\", cv2.VideoWriter_fourcc(*'mp4v'), fps, (frames[0].shape[1], frames[0].shape[0]))\n",
    "    for frame in frames:\n",
    "        out.write(frame)\n",
    "    out.release()"
   ]
  },
  {
   "cell_type": "code",
   "execution_count": 46,
   "metadata": {
    "ExecuteTime": {
     "end_time": "2024-04-23T23:22:20.832066900Z",
     "start_time": "2024-04-23T23:22:20.819068100Z"
    }
   },
   "outputs": [],
   "source": [
    "from src.policy.services.epsilon_greedy import epsilon_greedy"
   ]
  },
  {
   "cell_type": "code",
   "execution_count": 47,
   "metadata": {
    "ExecuteTime": {
     "end_time": "2024-04-23T23:22:21.485193300Z",
     "start_time": "2024-04-23T23:22:21.468194100Z"
    }
   },
   "outputs": [],
   "source": [
    "def test_dqn(dqn, env, device, output_name=\"output\", output_dir=\"./tmpvideo\"):\n",
    "    frames = []\n",
    "    rewards = []\n",
    "    for i in range(10):\n",
    "        cum_reward = 0\n",
    "        state, _ = env.reset()\n",
    "        done = False\n",
    "        while not done:\n",
    "            if i == 0:\n",
    "                frames.append(env.render())\n",
    "            action = epsilon_greedy(\n",
    "                torch.tensor(state, dtype=torch.float32).unsqueeze(0).to(device), dqn, 0)\n",
    "            next_state, reward, terminated, truncated, _ = env.step(action)\n",
    "            cum_reward += reward\n",
    "            done = terminated or truncated\n",
    "            state = next_state\n",
    "        rewards.append(cum_reward)\n",
    "    create_video(frames, output_name=f\"{output_dir}/{output_name}\")\n",
    "    return rewards"
   ]
  },
  {
   "cell_type": "code",
   "execution_count": 48,
   "metadata": {
    "ExecuteTime": {
     "end_time": "2024-04-23T23:22:23.054699200Z",
     "start_time": "2024-04-23T23:22:22.504700300Z"
    }
   },
   "outputs": [],
   "source": [
    "bf_rewards = test_dqn(dqn_golden, gym.make(env_name, render_mode=\"rgb_array\"), device, output_name=\"before_training_lunader_lander\")"
   ]
  },
  {
   "cell_type": "code",
   "outputs": [
    {
     "name": "stdout",
     "output_type": "stream",
     "text": [
      "[-452.174421901032, -662.972353362637, -396.7225915034367, -391.2459664314594, -752.7123294505722, -840.8575139628855, -503.8150841488567, -557.8205799335751, -484.8628417114906, -826.2194609862426]\n"
     ]
    }
   ],
   "source": [
    "print(bf_rewards)"
   ],
   "metadata": {
    "collapsed": false,
    "ExecuteTime": {
     "end_time": "2024-04-23T23:22:23.825314500Z",
     "start_time": "2024-04-23T23:22:23.818312300Z"
    }
   },
   "execution_count": 49
  },
  {
   "cell_type": "code",
   "execution_count": 57,
   "metadata": {
    "ExecuteTime": {
     "end_time": "2024-04-23T23:26:44.295837Z",
     "start_time": "2024-04-23T23:26:44.285840600Z"
    }
   },
   "outputs": [],
   "source": [
    "pretrain_path = \"./src/pretrain/data/LunarLander-v2_10_000.npy\"\n",
    "pretrain_epochs = 200\n",
    "pretrain_batch_size = batch_size\n",
    "pretrain_optm_lr = 0.001\n",
    "pretrain_optimizer = Adam(dqn_golden.parameters(), lr=pretrain_optm_lr)"
   ]
  },
  {
   "cell_type": "code",
   "execution_count": 58,
   "metadata": {
    "ExecuteTime": {
     "end_time": "2024-04-23T23:26:45.365931600Z",
     "start_time": "2024-04-23T23:26:45.359932Z"
    }
   },
   "outputs": [],
   "source": [
    "from tqdm.auto import tqdm"
   ]
  },
  {
   "cell_type": "code",
   "execution_count": 59,
   "metadata": {
    "ExecuteTime": {
     "end_time": "2024-04-23T23:28:26.374956100Z",
     "start_time": "2024-04-23T23:26:45.910637100Z"
    }
   },
   "outputs": [
    {
     "name": "stderr",
     "output_type": "stream",
     "text": [
      "100%|██████████| 200/200 [01:40<00:00,  1.99it/s]\n"
     ]
    }
   ],
   "source": [
    "from src.pretrain.services.train import pre_train\n",
    "pre_train(\n",
    "    dqn_golden,\n",
    "    pretrain_optimizer,\n",
    "    pretrain_path,\n",
    "    pretrain_epochs,\n",
    "    pretrain_batch_size,\n",
    "    device=device,\n",
    ")"
   ]
  },
  {
   "cell_type": "code",
   "execution_count": 62,
   "metadata": {
    "ExecuteTime": {
     "end_time": "2024-04-23T23:28:38.423169100Z",
     "start_time": "2024-04-23T23:28:36.561204900Z"
    }
   },
   "outputs": [],
   "source": [
    "pretrain_rewards = test_dqn(dqn_golden, gym.make(env_name, render_mode=\"rgb_array\"), device, output_name=\"pretrain_lunar_lander\")"
   ]
  },
  {
   "cell_type": "code",
   "outputs": [
    {
     "name": "stdout",
     "output_type": "stream",
     "text": [
      "[23.009141065573175, -47.96259643787111, -101.8860423584971, -352.94496865138535, -243.2148964423845, 260.482302178953, 39.836824371347205, -63.68445716189174, 207.64631325916193, -14.695851816910121]\n"
     ]
    }
   ],
   "source": [
    "print(pretrain_rewards)"
   ],
   "metadata": {
    "collapsed": false,
    "ExecuteTime": {
     "end_time": "2024-04-23T23:28:38.428170400Z",
     "start_time": "2024-04-23T23:28:38.360171Z"
    }
   },
   "execution_count": 63
  },
  {
   "cell_type": "code",
   "outputs": [],
   "source": [],
   "metadata": {
    "collapsed": false
   }
  }
 ],
 "metadata": {
  "kernelspec": {
   "display_name": ".venv",
   "language": "python",
   "name": "python3"
  },
  "language_info": {
   "codemirror_mode": {
    "name": "ipython",
    "version": 3
   },
   "file_extension": ".py",
   "mimetype": "text/x-python",
   "name": "python",
   "nbconvert_exporter": "python",
   "pygments_lexer": "ipython3",
   "version": "3.11.7"
  }
 },
 "nbformat": 4,
 "nbformat_minor": 2
}
