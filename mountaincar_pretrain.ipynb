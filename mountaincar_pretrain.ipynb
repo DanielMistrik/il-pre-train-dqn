{
 "cells": [
  {
   "cell_type": "code",
   "execution_count": 57,
   "metadata": {
    "ExecuteTime": {
     "end_time": "2024-04-29T14:07:48.914188500Z",
     "start_time": "2024-04-29T14:07:48.910193800Z"
    }
   },
   "outputs": [],
   "source": [
    "import gymnasium as gym\n",
    "import torch\n",
    "from src.data.services.dimensions import get_dims\n",
    "import json"
   ]
  },
  {
   "cell_type": "code",
   "execution_count": 58,
   "metadata": {
    "ExecuteTime": {
     "end_time": "2024-04-29T14:07:49.250436600Z",
     "start_time": "2024-04-29T14:07:49.245440800Z"
    }
   },
   "outputs": [],
   "source": [
    "env_name = \"MountainCar-v0\""
   ]
  },
  {
   "cell_type": "code",
   "execution_count": 59,
   "metadata": {
    "ExecuteTime": {
     "end_time": "2024-04-29T14:07:49.523442500Z",
     "start_time": "2024-04-29T14:07:49.513443300Z"
    }
   },
   "outputs": [],
   "source": [
    "env = gym.make(env_name)"
   ]
  },
  {
   "cell_type": "code",
   "execution_count": 60,
   "metadata": {
    "ExecuteTime": {
     "end_time": "2024-04-29T14:07:49.704440200Z",
     "start_time": "2024-04-29T14:07:49.688443200Z"
    }
   },
   "outputs": [],
   "source": [
    "from src.nn.services.dqn import DQN"
   ]
  },
  {
   "cell_type": "code",
   "execution_count": 61,
   "metadata": {
    "ExecuteTime": {
     "end_time": "2024-04-29T14:07:49.878460900Z",
     "start_time": "2024-04-29T14:07:49.859440300Z"
    }
   },
   "outputs": [],
   "source": [
    "state_dim, action_dim = get_dims(env)"
   ]
  },
  {
   "cell_type": "code",
   "execution_count": 62,
   "metadata": {
    "ExecuteTime": {
     "end_time": "2024-04-29T14:07:50.047435100Z",
     "start_time": "2024-04-29T14:07:50.037440100Z"
    }
   },
   "outputs": [],
   "source": [
    "device = torch.device(\"cuda\" if torch.cuda.is_available() else \"cpu\")"
   ]
  },
  {
   "cell_type": "code",
   "execution_count": 63,
   "metadata": {
    "ExecuteTime": {
     "end_time": "2024-04-29T14:07:50.204437100Z",
     "start_time": "2024-04-29T14:07:50.200438200Z"
    }
   },
   "outputs": [],
   "source": [
    "dqn_golden = DQN(state_dim, action_dim).to(device)"
   ]
  },
  {
   "cell_type": "code",
   "execution_count": 64,
   "metadata": {
    "ExecuteTime": {
     "end_time": "2024-04-29T14:07:50.397438900Z",
     "start_time": "2024-04-29T14:07:50.382443100Z"
    }
   },
   "outputs": [],
   "source": [
    "from src.training.services.train import full_training as train"
   ]
  },
  {
   "cell_type": "code",
   "execution_count": 65,
   "metadata": {
    "ExecuteTime": {
     "end_time": "2024-04-29T14:07:50.554439300Z",
     "start_time": "2024-04-29T14:07:50.547441Z"
    }
   },
   "outputs": [],
   "source": [
    "from src.data.services.memory import ReplayMemory"
   ]
  },
  {
   "cell_type": "code",
   "execution_count": 66,
   "metadata": {
    "ExecuteTime": {
     "end_time": "2024-04-29T14:07:50.822434700Z",
     "start_time": "2024-04-29T14:07:50.808439Z"
    }
   },
   "outputs": [],
   "source": [
    "from torch.optim import Adam"
   ]
  },
  {
   "cell_type": "code",
   "execution_count": 67,
   "metadata": {
    "ExecuteTime": {
     "end_time": "2024-04-29T14:07:51.321437700Z",
     "start_time": "2024-04-29T14:07:51.303436500Z"
    }
   },
   "outputs": [],
   "source": [
    "batch_size = 64\n",
    "gamma = 0.99\n",
    "num_episodes = 10000\n",
    "target_update = 50\n",
    "epsilon = 0.2"
   ]
  },
  {
   "cell_type": "code",
   "execution_count": 68,
   "metadata": {
    "ExecuteTime": {
     "end_time": "2024-04-29T14:07:51.739437Z",
     "start_time": "2024-04-29T14:07:51.721437Z"
    }
   },
   "outputs": [],
   "source": [
    "import cv2"
   ]
  },
  {
   "cell_type": "code",
   "execution_count": 69,
   "metadata": {
    "ExecuteTime": {
     "end_time": "2024-04-29T14:07:52.050434300Z",
     "start_time": "2024-04-29T14:07:52.043437200Z"
    }
   },
   "outputs": [],
   "source": [
    "def create_video(frames, fps=10, output_name=\"output\"):\n",
    "    out = cv2.VideoWriter(f\"{output_name}.mp4\", cv2.VideoWriter_fourcc(*'mp4v'), fps, (frames[0].shape[1], frames[0].shape[0]))\n",
    "    for frame in frames:\n",
    "        out.write(frame)\n",
    "    out.release()"
   ]
  },
  {
   "cell_type": "code",
   "execution_count": 70,
   "metadata": {
    "ExecuteTime": {
     "end_time": "2024-04-29T14:07:52.538546100Z",
     "start_time": "2024-04-29T14:07:52.516546100Z"
    }
   },
   "outputs": [],
   "source": [
    "from src.policy.services.epsilon_greedy import epsilon_greedy"
   ]
  },
  {
   "cell_type": "code",
   "execution_count": 71,
   "metadata": {
    "ExecuteTime": {
     "end_time": "2024-04-29T14:07:52.975181300Z",
     "start_time": "2024-04-29T14:07:52.969183700Z"
    }
   },
   "outputs": [],
   "source": [
    "def test_dqn(dqn, env, device, output_name=\"output\", output_dir=\"./tmpvideo\"):\n",
    "    frames = []\n",
    "    rewards = []\n",
    "    for i in range(10):\n",
    "        cum_reward = 0\n",
    "        state, _ = env.reset()\n",
    "        done = False\n",
    "        while not done:\n",
    "            if i == 0:\n",
    "                frames.append(env.render())\n",
    "            action = epsilon_greedy(\n",
    "                torch.tensor(state, dtype=torch.float32).unsqueeze(0).to(device), dqn, 0)\n",
    "            next_state, reward, terminated, truncated, _ = env.step(action)\n",
    "            cum_reward += reward\n",
    "            done = terminated or truncated\n",
    "            state = next_state\n",
    "        rewards.append(cum_reward)\n",
    "    create_video(frames, output_name=f\"{output_dir}/{output_name}\")\n",
    "    return rewards"
   ]
  },
  {
   "cell_type": "code",
   "execution_count": 16,
   "metadata": {
    "ExecuteTime": {
     "end_time": "2024-04-29T13:58:13.989812500Z",
     "start_time": "2024-04-29T13:58:12.614780800Z"
    }
   },
   "outputs": [],
   "source": [
    "bf_rewards = test_dqn(dqn_golden, gym.make(env_name, render_mode=\"rgb_array\"), device, output_name=\"before_training_lunader_lander\")"
   ]
  },
  {
   "cell_type": "code",
   "outputs": [
    {
     "name": "stdout",
     "output_type": "stream",
     "text": [
      "[-200.0, -200.0, -200.0, -200.0, -200.0, -200.0, -200.0, -200.0, -200.0, -200.0]\n"
     ]
    }
   ],
   "source": [
    "print(bf_rewards)"
   ],
   "metadata": {
    "collapsed": false,
    "ExecuteTime": {
     "end_time": "2024-04-29T13:58:24.744229200Z",
     "start_time": "2024-04-29T13:58:24.732232300Z"
    }
   },
   "execution_count": 17
  },
  {
   "cell_type": "code",
   "execution_count": 72,
   "metadata": {
    "ExecuteTime": {
     "end_time": "2024-04-29T14:07:59.379360300Z",
     "start_time": "2024-04-29T14:07:59.374361900Z"
    }
   },
   "outputs": [],
   "source": [
    "pretrain_path = \"./src/pretrain/data/MountainCar-v0_10_000.npy\"\n",
    "pretrain_epochs = 500\n",
    "pretrain_batch_size = batch_size\n",
    "pretrain_optm_lr = 0.001\n",
    "pretrain_optimizer = Adam(dqn_golden.parameters(), lr=pretrain_optm_lr)"
   ]
  },
  {
   "cell_type": "code",
   "execution_count": 73,
   "metadata": {
    "ExecuteTime": {
     "end_time": "2024-04-29T14:08:00.235751900Z",
     "start_time": "2024-04-29T14:08:00.228711200Z"
    }
   },
   "outputs": [],
   "source": [
    "from tqdm.auto import tqdm"
   ]
  },
  {
   "cell_type": "code",
   "execution_count": 74,
   "metadata": {
    "ExecuteTime": {
     "end_time": "2024-04-29T14:10:23.149618700Z",
     "start_time": "2024-04-29T14:08:00.801718300Z"
    }
   },
   "outputs": [
    {
     "name": "stderr",
     "output_type": "stream",
     "text": [
      "100%|██████████| 500/500 [02:22<00:00,  3.52it/s]\n"
     ]
    }
   ],
   "source": [
    "from src.pretrain.services.train import pre_train\n",
    "pre_train(\n",
    "    dqn_golden,\n",
    "    pretrain_optimizer,\n",
    "    pretrain_path,\n",
    "    pretrain_epochs,\n",
    "    pretrain_batch_size,\n",
    "    device=device,\n",
    ")"
   ]
  },
  {
   "cell_type": "code",
   "execution_count": 75,
   "metadata": {
    "ExecuteTime": {
     "end_time": "2024-04-29T14:10:24.062622Z",
     "start_time": "2024-04-29T14:10:23.191628800Z"
    }
   },
   "outputs": [],
   "source": [
    "pretrain_rewards = test_dqn(dqn_golden, gym.make(env_name, render_mode=\"rgb_array\"), device, output_name=\"pretrain_mountain_car\")"
   ]
  },
  {
   "cell_type": "code",
   "outputs": [
    {
     "name": "stdout",
     "output_type": "stream",
     "text": [
      "[-200.0, -200.0, -118.0, -116.0, -200.0, -200.0, -200.0, -115.0, -122.0, -117.0]\n"
     ]
    }
   ],
   "source": [
    "print(pretrain_rewards)"
   ],
   "metadata": {
    "collapsed": false,
    "ExecuteTime": {
     "end_time": "2024-04-29T14:26:02.443580500Z",
     "start_time": "2024-04-29T14:26:02.436563400Z"
    }
   },
   "execution_count": 76
  },
  {
   "cell_type": "code",
   "outputs": [],
   "source": [],
   "metadata": {
    "collapsed": false
   }
  }
 ],
 "metadata": {
  "kernelspec": {
   "display_name": ".venv",
   "language": "python",
   "name": "python3"
  },
  "language_info": {
   "codemirror_mode": {
    "name": "ipython",
    "version": 3
   },
   "file_extension": ".py",
   "mimetype": "text/x-python",
   "name": "python",
   "nbconvert_exporter": "python",
   "pygments_lexer": "ipython3",
   "version": "3.11.7"
  }
 },
 "nbformat": 4,
 "nbformat_minor": 2
}
